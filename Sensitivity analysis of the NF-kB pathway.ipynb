{
 "cells": [
  {
   "cell_type": "markdown",
   "metadata": {},
   "source": [
    "# Sensitivity analysis of the NF-kB pathway\n",
    "The steps for this are as follow:\n",
    "1. From an equations text file, load the reaction equations and create a state space model\n",
    "2. From the state space model and initial parameters, find \n",
    "    1. The initial parameters for the model (run it 1000 times from the first initial conditions)\n",
    "    2. Determine the value of x<sub>i</sub> for all i for all t in [0, N]\n",
    "3. Calculate s<sub>i, j</sub> for all t given the values of x<sub>i</sub> for all t\n",
    "4. Calcuate sbar for all t\n",
    "5. Having the sensitivity matrix and the values of x for all desired t, calculate the sensitivity equations\n",
    "\n",
    "We need x<sub>i</sub>(t) and s<sub>i, j</sub> to calculate sbar, which is needed for sensitivity analysis. Sensitivity analysis for all constants is defined as \n",
    "![Equation 22](./equation22.png)\n",
    "where s bar is\n",
    "![s bar](./sbar.png)\n",
    "dx/dtheta can be found from S\n",
    "![S](./bigS.png)\n",
    "and an entry  s<sub>i, j</sub> is \n",
    "![s](./littleS.png)\n",
    "where x<sub>i</sub> is the integration of the system of equations from the state space model and delta is the Kronecker delta function \n",
    "![kronecker delta](./kroneckerDelta.png)\n",
    "### All necessary imports"
   ]
  },
  {
   "cell_type": "code",
   "execution_count": 1,
   "metadata": {},
   "outputs": [],
   "source": [
    "import copy\n",
    "import numpy as np\n",
    "import sympy as sp\n",
    "from scipy.integrate import odeint"
   ]
  },
  {
   "cell_type": "markdown",
   "metadata": {},
   "source": [
    "### All program constants"
   ]
  },
  {
   "cell_type": "code",
   "execution_count": 2,
   "metadata": {},
   "outputs": [],
   "source": [
    "initial_conditions_N = 2000\n",
    "N = 400\n",
    "\n",
    "pathway_file = 'pathway_eqs.txt'\n",
    "reaction_coefficients_file = 'reaction_coefficients.txt'"
   ]
  },
  {
   "cell_type": "markdown",
   "metadata": {},
   "source": [
    "### Load the constants and separate them "
   ]
  },
  {
   "cell_type": "code",
   "execution_count": 3,
   "metadata": {},
   "outputs": [
    {
     "name": "stdout",
     "output_type": "stream",
     "text": [
      "{'k1': 0.5, 'k2': 0.0005, 'k3': 0.5, 'k4': 0.0005, 'k5': 0.5, 'k6': 0.0005, 'k7': 0.5, 'k8': 0.0005, 'k9': 0.0204, 'k10': 0.5, 'k11': 0.0005, 'k12': 0.0075, 'k13': 0.5, 'k14': 0.0005, 'k15': 0.011000000000000001, 'k16': 2.25e-05, 'k17': 2.25e-05, 'k18': 2.25e-05, 'k19': 0.09000000000000001, 'k20': 8e-05, 'k21': 0.5, 'k22': 0.0005, 'k23': 0.5, 'k24': 0.0005, 'k25': 0.5, 'k26': 0.0005, 'k27': 1.5399999999999999e-06, 'k28': 0.0165, 'k29': 0.00028, 'k30': 1.78e-07, 'k31': 0.00028, 'k32': 1.2699999999999999e-07, 'k33': 0.00028, 'k34': 0.0225, 'k35': 0.00125, 'k36': 0.00408, 'k37': 0.000113, 'k38': 0.00030000000000000003, 'k39': 0.0002, 'k40': 0.006, 'k41': 0.00175, 'k42': 0.00408, 'k43': 0.000113, 'k44': 0.00015000000000000001, 'k45': 0.0001, 'k46': 0.009000000000000001, 'k47': 0.00175, 'k48': 0.00408, 'k49': 0.000113, 'k50': 0.00015000000000000001, 'k51': 0.0001, 'k52': 0.18500000000000003, 'k53': 0.00125, 'k54': 0.0138, 'k55': 0.048, 'k56': 0.00175, 'k57': 0.005200000000000001, 'k58': 0.07, 'k59': 0.00175, 'k60': 0.005200000000000001, 'k61': 0.00012, 'k62': 0.004070000000000001, 'k63': 0.0015, 'k64': 0.0022}\n"
     ]
    }
   ],
   "source": [
    "ks = {}\n",
    "with open(reaction_coefficients_file, 'r') as o: \n",
    "    for l in o:\n",
    "        k = l.split('=')[0]\n",
    "        ks[k] = float(eval(l.split('=')[1].replace('\\n', '').strip()))\n",
    "print(ks)"
   ]
  },
  {
   "cell_type": "markdown",
   "metadata": {},
   "source": [
    "## 1. Generate the state space model from reaction equations"
   ]
  },
  {
   "cell_type": "code",
   "execution_count": 4,
   "metadata": {},
   "outputs": [
    {
     "name": "stdout",
     "output_type": "stream",
     "text": [
      "x1(t) = -k1*x1*x2+k2*x3-k34*x10*x1+k35*x8+k36*x22-k37*x1-k38*x1+k39*x16\n",
      "x2(t) = -k1*x1*x2+k2*x3-k3*x4*x2+k4*x5-k5*x6*x2+k6*x7-k7*x8*x2+k8*x9+k9*x9-k10*x11*x2+k11*x12+k12*x12-k13*x13*x2+k14*x14+k15*x14+k16*x3+k17*x5+k18*x7-k19*x2+k20*x15\n",
      "x3(t) = +k1*x1*x2-k2*x3-k16*x3-k52*x10*x3+k53*x9+k54*x17\n",
      "x4(t) = -k3*x4*x2+k4*x5-k40*x10*x4+k41*x11+k42*x23-k43*x4-k44*x4+k45*x18\n",
      "x5(t) = +k3*x4*x2-k4*x5-k17*x5-k55*x10*x5+k56*x12+k57*x19\n",
      "x6(t) = -k5*x6*x2+k6*x7-k46*x10*x6+k47*x13+k48*x24-k49*x6-k50*x6+k51*x20\n",
      "x7(t) = +k5*x6*x2-k6*x7-k18*x7-k58*x10*x7+k59*x14+k60*x21\n",
      "x8(t) = -k7*x8*x2+k8*x9+k34*x10*x1-k35*x8-k62*x8\n",
      "x9(t) = +k7*x8*x2-k8*x9-k9*x9+k52*x10*x3-k53*x9\n",
      "x10(t) = +k9*x9+k12*x12+k15*x14-k34*x10*x1+k35*x8-k40*x10*x4+k41*x11-k46*x10*x6+k47*x13-k52*x10*x3+k53*x9-k55*x10*x5+k56*x12-k58*x10*x7+k59*x14-k61*x10+k62*x8+k63*x11+k64*x13\n",
      "x11(t) = -k10*x11*x2+k11*x12+k40*x10*x4-k41*x11-k63*x11\n",
      "x12(t) = +k10*x11*x2-k11*x12-k12*x12+k55*x10*x5-k56*x12\n",
      "x13(t) = -k13*x13*x2+k14*x14+k46*x10*x6-k47*x13-k64*x13\n",
      "x14(t) = +k13*x13*x2-k14*x14-k15*x14+k58*x10*x7-k59*x14\n",
      "x15(t) = +k19*x2-k20*x15-k21*x16*x15+k22*x17-k23*x18*x15+k24*x19-k25*x20*x15+k26*x21-k28*x15*x15+k28*x15*x15\n",
      "x16(t) = -k21*x16*x15+k22*x17+k38*x1-k39*x16\n",
      "x17(t) = +k21*x16*x15-k22*x17-k54*x17\n",
      "x18(t) = -k23*x18*x15+k24*x19+k44*x4-k45*x18\n",
      "x19(t) = +k23*x18*x15-k24*x19-k57*x19\n",
      "x20(t) = -k25*x20*x15+k26*x21+k50*x6-k51*x20\n",
      "x21(t) = +k25*x20*x15-k26*x21-k60*x21\n",
      "x22(t) = +k27*xSOURCE+k28*x15*x15-k29*x22-k36*x22+k36*x22\n",
      "x23(t) = +k30*xSOURCE-k31*x23-k42*x23+k42*x23\n",
      "x24(t) = +k32*xSOURCE-k33*x24-k48*x24+k48*x24\n",
      "xSOURCE(t) = -k27*xSOURCE-k30*xSOURCE-k32*xSOURCE\n",
      "xSINK(t) = +k29*x22+k31*x23+k33*x24+k37*x1+k43*x4+k49*x6+k61*x10\n"
     ]
    }
   ],
   "source": [
    "import numpy as np\n",
    "\n",
    "file = open(pathway_file,\"r\")\n",
    "eqs_arr=file.readlines()\n",
    "file.close()\n",
    "eqs_arr=[i[:-1] if i[-1] == '\\n' else i for i in eqs_arr ] #remove \\n\n",
    "\n",
    "class Rxn:\n",
    "    \n",
    "    def __init__(self, ID, reactants, products):\n",
    "        #reactants and products are lists\n",
    "        self.ID = str(ID)\n",
    "        self.reactants = reactants\n",
    "        self.products = products\n",
    "        \n",
    "    def __str__(self):\n",
    "        ret = \"ID: \" + self.ID + \" Reactants: \"\n",
    "        for r in self.reactants:\n",
    "            ret = ret + r.ID + \", \"\n",
    "        ret = ret + \"Products: \"\n",
    "        for p in self.products:\n",
    "            ret = ret + p.ID + \", \"\n",
    "        return ret\n",
    "\n",
    "class RxnSpec:\n",
    "    \n",
    "    def __init__(self, ID, name):\n",
    "        self.ID = 'x' + str(ID)\n",
    "        self.name = name\n",
    "        \n",
    "    def __str__(self):\n",
    "        return 'ID: ' + self.ID + ' name: ' + self.name\n",
    "\n",
    "#list of rxn species\n",
    "rxn_species = [RxnSpec(1,'ikba'), RxnSpec(2,'nf-kb'), RxnSpec(3,'ikba-nf-kb'), RxnSpec(4,'ikbb'), RxnSpec(5,'ikbb-nf-kb'),\n",
    "              RxnSpec(6,'ikbe'),RxnSpec(7,'ikbe-nf-kb'),RxnSpec(8,'ikkikba'),RxnSpec(9,'ikkikba-nf-kb'),RxnSpec(10,'ikk'),\n",
    "              RxnSpec(11,'ikkikbb'),RxnSpec(12,'ikkikbb-nf-kb'),RxnSpec(13,'ikkikbe'),RxnSpec(14,'ikkikbe-nf-kb'),\n",
    "              RxnSpec(15,'nf-kb_n'),RxnSpec(16,'ikba_n'),RxnSpec(17,'ikba_n-nf-kb_n'),RxnSpec(18,'ikbb_n'),RxnSpec(19,'ikbb_n-nf-kb_n'),\n",
    "              RxnSpec(20,'ikbe_n'),RxnSpec(21,'ikbe_n-nf-kb_n'),RxnSpec(22,'ikba_-t'),RxnSpec(23,'ikbb_-t'),RxnSpec(24,'ikbe_-t'),RxnSpec('SOURCE','source'),RxnSpec('SINK','sink')]\n",
    "\n",
    "rxn_arr = []\n",
    "\n",
    "for idx,eq in enumerate(eqs_arr):\n",
    "    temp = eq.split('->')\n",
    "    reactants = temp[0].split('+')\n",
    "    products = temp[1].split('+')\n",
    "    #convert each element in reactants and products into a RxnSpec\n",
    "    new_reactants = []\n",
    "    new_products = []\n",
    "    for reac in reactants:\n",
    "        for rs in rxn_species:\n",
    "            if rs.name == reac:\n",
    "                new_reactants.append(rs)\n",
    "                break\n",
    "    for prod in products:\n",
    "        for rs in rxn_species:\n",
    "            \n",
    "            if rs.name == prod:\n",
    "                new_products.append(rs)\n",
    "                break\n",
    "    \n",
    "    \n",
    "    rxn = Rxn(idx+1,new_reactants, new_products)\n",
    "    rxn_arr.append(rxn)\n",
    "\n",
    "state_space_model = []\n",
    "\n",
    "for rs in rxn_species:\n",
    "    eq = rs.ID + '(t) = '\n",
    "    for rxn in rxn_arr:\n",
    "        if rs.name in [i.name for i in rxn.reactants]:\n",
    "            k = '-k' + str(rxn.ID)\n",
    "            eq = eq + k\n",
    "            for reac in rxn.reactants:\n",
    "                eq = eq + '*' + reac.ID\n",
    "            \n",
    "        if rs.name in [i.name for i in rxn.products]:\n",
    "            k = '+k' + str(rxn.ID)\n",
    "            eq = eq + k\n",
    "            for reac in rxn.reactants:\n",
    "                eq = eq + '*' + reac.ID\n",
    "    state_space_model.append(eq)\n",
    "    \n",
    "for eq in state_space_model:\n",
    "    print(eq)"
   ]
  },
  {
   "cell_type": "markdown",
   "metadata": {},
   "source": [
    "## 2. Identify the initial conditions and x(t) for all t\n",
    "1. Run the integration initial_conditions_N number of times to get initial conditions\n",
    "2. Augment these by any thing you need from the paper for actual initial conditions\n",
    "\n",
    "__NOTE__:   as of now, hard code the k values (from some source) and the partial derivatives (from the state space model)"
   ]
  },
  {
   "cell_type": "code",
   "execution_count": 5,
   "metadata": {},
   "outputs": [],
   "source": [
    "# followed the direction of this video https://www.youtube.com/watch?v=zRMmiBMjP9o\n",
    "def nf_kb(x, t):\n",
    "    # x is here to be used by (1) initial conditions and (2) x when we use odeint\n",
    "    # t is here for obvious reasons\n",
    "    \n",
    "    # define the k values\n",
    "    k1=0.5\n",
    "    k2=0.5*10**-3 \n",
    "    k3=0.5\n",
    "    k4=0.5*10**-3 \n",
    "    k5=0.5\n",
    "    k6=0.5*10**-3 \n",
    "    k7=0.5\n",
    "    k8=0.5*10**-3 \n",
    "    k9=2.04*10**-2 \n",
    "    k10=0.5\n",
    "    k11=0.5*10**-3 \n",
    "    k12=7.5*10**-3 \n",
    "    k13=0.5\n",
    "    k14=0.5*10**-3 \n",
    "    k15=1.1*10**-2 \n",
    "    k16=2.25*10**-5 \n",
    "    k17=2.25*10**-5 \n",
    "    k18=2.25*10**-5 \n",
    "    k19=0.9*10**-1 \n",
    "    k20=0.8*10**-4 \n",
    "    k21=0.5\n",
    "    k22=0.5*10**-3 \n",
    "    k23=0.5\n",
    "    k24=0.5*10**-3 \n",
    "    k25=0.5\n",
    "    k26=0.5*10**-3 \n",
    "    k27=1.54*10**-6  \n",
    "    k28=1.65*10**-2  \n",
    "    k29=2.8*10**-4 \n",
    "    k30=1.78*10**-7  \n",
    "    k31=2.8*10**-4 \n",
    "    k32=1.27*10**-7  \n",
    "    k33=2.8*10**-4 \n",
    "    k34=22.5*10**-3  \n",
    "    k35=1.25*10**-3 \n",
    "    k36=4.08*10**-3 \n",
    "    k37=1.13*10**-4 \n",
    "    k38=3*10**-4 \n",
    "    k39=2*10**-4 \n",
    "    k40=6.0*10**-3  \n",
    "    k41=1.75*10**-3 \n",
    "    k42=4.08*10**-3 \n",
    "    k43=1.13*10**-4 \n",
    "    k44=1.5*10**-4 \n",
    "    k45=1*10**-4 \n",
    "    k46=9.0*10**-3  \n",
    "    k47=1.75*10**-3 \n",
    "    k48=4.08*10**-3 \n",
    "    k49=1.13*10**-4 \n",
    "    k50=1.5*10**-4 \n",
    "    k51=1*10**-4 \n",
    "    k52=1.85*10**-1  \n",
    "    k53=1.25*10**-3 \n",
    "    k54=1.38*10**-2 \n",
    "    k55=4.8*10**-2  \n",
    "    k56=1.75*10**-3 \n",
    "    k57=5.2*10**-3 \n",
    "    k58=7.0*10**-2  \n",
    "    k59=1.75*10**-3 \n",
    "    k60=5.2*10**-3 \n",
    "    k61=1.2*10**-4 \n",
    "    k62=4.07*10**-3 \n",
    "    k63=1.5*10**-3 \n",
    "    k64=2.2*10**-3 \n",
    "    \n",
    "    # im lazy and make it easy to read\n",
    "    x1 = x[0]\n",
    "    x2 = x[1]\n",
    "    x3 = x[2]\n",
    "    x4 = x[3]\n",
    "    x5 = x[4]\n",
    "    x6 = x[5]\n",
    "    x7 = x[6]\n",
    "    x8 = x[7]\n",
    "    x9 = x[8]\n",
    "    x10 = x[9]\n",
    "    x11 = x[10]\n",
    "    x12 = x[11]\n",
    "    x13 = x[12]\n",
    "    x14 = x[13]\n",
    "    x15 = x[14]\n",
    "    x16 = x[15]\n",
    "    x17 = x[16]\n",
    "    x18 = x[17]\n",
    "    x19 = x[18]\n",
    "    x20 = x[19]\n",
    "    x21 = x[20]\n",
    "    x22 = x[21]\n",
    "    x23 = x[22]\n",
    "    x24 = x[23]\n",
    "    \n",
    "    dx1dt = -k1*x1*x2+k2*x3-k34*x10*x1+k35*x8+k36*x22-k37*x1-k38*x1+k39*x16\n",
    "    dx2dt = -k1*x1*x2+k2*x3-k3*x4*x2+k4*x5-k5*x6*x2+k6*x7-k7*x8*x2+k8*x9+k9*x9-k10*x11*x2+k11*x12+k12*x12-k13*x13*x2+k14*x14+k15*x14+k16*x3+k17*x5+k18*x7-k19*x2+k20*x15\n",
    "    dx3dt = +k1*x1*x2-k2*x3-k16*x3-k52*x10*x3+k53*x9+k54*x17\n",
    "    dx4dt = -k3*x4*x2+k4*x5-k40*x10*x4+k41*x11+k42*x23-k43*x4-k44*x4+k45*x18\n",
    "    dx5dt = +k3*x4*x2-k4*x5-k17*x5-k55*x10*x5+k56*x12+k57*x19\n",
    "    dx6dt = -k5*x6*x2+k6*x7-k46*x10*x6+k47*x13+k48*x24-k49*x6-k50*x6+k51*x20\n",
    "    dx7dt = +k5*x6*x2-k6*x7-k18*x7-k58*x10*x7+k59*x14+k60*x21\n",
    "    dx8dt = -k7*x8*x2+k8*x9+k34*x10*x1-k35*x8-k62*x8\n",
    "    dx9dt = +k7*x8*x2-k8*x9-k9*x9+k52*x10*x3-k53*x9\n",
    "    dx10dt = +k9*x9+k12*x12+k15*x14-k34*x10*x1+k35*x8-k40*x10*x4+k41*x11-k46*x10*x6+k47*x13-k52*x10*x3+k53*x9-k55*x10*x5+k56*x12-k58*x10*x7+k59*x14-k61*x10+k62*x8+k63*x11+k64*x13\n",
    "    dx11dt = -k10*x11*x2+k11*x12+k40*x10*x4-k41*x11-k63*x11\n",
    "    dx12dt = +k10*x11*x2-k11*x12-k12*x12+k55*x10*x5-k56*x12\n",
    "    dx13dt = -k13*x13*x2+k14*x14+k46*x10*x6-k47*x13-k64*x13\n",
    "    dx14dt = +k13*x13*x2-k14*x14-k15*x14+k58*x10*x7-k59*x14\n",
    "    dx15dt = +k19*x2-k20*x15-k21*x16*x15+k22*x17-k23*x18*x15+k24*x19-k25*x20*x15+k26*x21-k28*x15*x15+k28*x15*x15\n",
    "    dx16dt = -k21*x16*x15+k22*x17+k38*x1-k39*x16\n",
    "    dx17dt = +k21*x16*x15-k22*x17-k54*x17\n",
    "    dx18dt = -k23*x18*x15+k24*x19+k44*x4-k45*x18\n",
    "    dx19dt = +k23*x18*x15-k24*x19-k57*x19\n",
    "    dx20dt = -k25*x20*x15+k26*x21+k50*x6-k51*x20\n",
    "    dx21dt = +k25*x20*x15-k26*x21-k60*x21\n",
    "    dx22dt = +k27+k28*x15*x15-k29*x22-k36*x22+k36*x22\n",
    "    dx23dt = +k30-k31*x23-k42*x23+k42*x23\n",
    "    dx24dt = +k32-k33*x24-k48*x24+k48*x24\n",
    "    \n",
    "    \n",
    "    return [dx1dt, dx2dt, dx3dt, dx4dt, dx5dt, dx6dt, dx7dt, dx8dt,\n",
    "            dx9dt, dx10dt, dx11dt, dx12dt, dx13dt, dx14dt, dx15dt, dx16dt, \n",
    "            dx17dt, dx18dt, dx19dt, dx20dt, dx21dt, dx22dt, dx23dt, dx24dt]\n",
    "# first run for the initial conditions\n",
    "T = initial_conditions_N \n",
    "x0x0 = [0, 0.1] + [0 for i in range(22)]\n",
    "t = np.asarray(range(T))\n",
    "\n",
    "init_conditions = odeint(nf_kb, x0x0, t)\n"
   ]
  },
  {
   "cell_type": "code",
   "execution_count": 6,
   "metadata": {},
   "outputs": [
    {
     "name": "stdout",
     "output_type": "stream",
     "text": [
      "[5.97521108e-01 1.30181698e-04 9.67877617e-02 1.00437832e-03\n",
      " 7.87277938e-05 7.16607007e-04 5.61709540e-05 0.00000000e+00\n",
      " 0.00000000e+00 0.00000000e+00 0.00000000e+00 0.00000000e+00\n",
      " 0.00000000e+00 0.00000000e+00 7.65494124e-04 4.90100028e-02\n",
      " 2.16974463e-03 4.02420143e-05 6.95607467e-06 2.87119990e-05\n",
      " 4.96304204e-06 1.17054807e-01 2.72486833e-04 1.94414763e-04]\n"
     ]
    }
   ],
   "source": [
    "print(init_conditions[-1])"
   ]
  },
  {
   "cell_type": "markdown",
   "metadata": {},
   "source": [
    "Now we have the initial conditions, so we need to augment this by paper specific parameters"
   ]
  },
  {
   "cell_type": "code",
   "execution_count": 7,
   "metadata": {},
   "outputs": [],
   "source": [
    "# ok now do it for the simulation\n",
    "T = N + 1\n",
    "x0 = init_conditions[-1]\n",
    "# fill in the extra stuff in the paper, IKK at 0.1 (x10, index 9) PAPER SPECIFIC\n",
    "x0[9] = 0.1\n",
    "t = np.asarray(range(T))\n",
    "\n",
    "x = odeint(nf_kb, x0, t)\n",
    "# x has the shape of \n",
    "# [N, i] (an entry for all x for all N)\n",
    "# replace x[0] with the initial conditions\n",
    "x = x[1:]"
   ]
  },
  {
   "cell_type": "markdown",
   "metadata": {},
   "source": [
    "## 3. Calculate s for all t\n",
    "### Finding dx with respect to theta\n",
    "Here are the equations\n",
    "\n",
    "![dx dtheat](dxdtheta.png)\n",
    "\n",
    "Once we can get equation 9, we can integrate with respect to time to get dx dtheta.\n",
    "\n",
    "s i j is defined as \n",
    "\n",
    "![s](littleS.png)\n",
    "\n",
    "I think f are the system of equations from the state space model"
   ]
  },
  {
   "cell_type": "code",
   "execution_count": 11,
   "metadata": {},
   "outputs": [],
   "source": [
    "# here is the state space model\n",
    "\n",
    "ssm = []\n",
    "ssm.append(sp.sympify('-k1*x1*x2+k2*x3-k34*x10*x1+k35*x8+k36*x22-k37*x1-k38*x1+k39*x16'))\n",
    "ssm.append(sp.sympify('-k1*x1*x2+k2*x3-k3*x4*x2+k4*x5-k5*x6*x2+k6*x7-k7*x8*x2+k8*x9+k9*x9-k10*x11*x2+k11*x12+k12*x12-k13*x13*x2+k14*x14+k15*x14+k16*x3+k17*x5+k18*x7-k19*x2+k20*x15'))\n",
    "ssm.append(sp.sympify('+k1*x1*x2-k2*x3-k16*x3-k52*x10*x3+k53*x9+k54*x17'))\n",
    "ssm.append(sp.sympify('-k3*x4*x2+k4*x5-k40*x10*x4+k41*x11+k42*x23-k43*x4-k44*x4+k45*x18'))\n",
    "ssm.append(sp.sympify('+k3*x4*x2-k4*x5-k17*x5-k55*x10*x5+k56*x12+k57*x19'))\n",
    "ssm.append(sp.sympify('-k5*x6*x2+k6*x7-k46*x10*x6+k47*x13+k48*x24-k49*x6-k50*x6+k51*x20'))\n",
    "ssm.append(sp.sympify('+k5*x6*x2-k6*x7-k18*x7-k58*x10*x7+k59*x14+k60*x21'))\n",
    "ssm.append(sp.sympify('-k7*x8*x2+k8*x9+k34*x10*x1-k35*x8-k62*x8'))\n",
    "ssm.append(sp.sympify('+k7*x8*x2-k8*x9-k9*x9+k52*x10*x3-k53*x9'))\n",
    "ssm.append(sp.sympify('+k9*x9+k12*x12+k15*x14-k34*x10*x1+k35*x8-k40*x10*x4+k41*x11-k46*x10*x6+k47*x13-k52*x10*x3+k53*x9-k55*x10*x5+k56*x12-k58*x10*x7+k59*x14-k61*x10+k62*x8+k63*x11+k64*x13'))\n",
    "ssm.append(sp.sympify('-k10*x11*x2+k11*x12+k40*x10*x4-k41*x11-k63*x11'))\n",
    "ssm.append(sp.sympify('+k10*x11*x2-k11*x12-k12*x12+k55*x10*x5-k56*x12'))\n",
    "ssm.append(sp.sympify('-k13*x13*x2+k14*x14+k46*x10*x6-k47*x13-k64*x13'))\n",
    "ssm.append(sp.sympify('+k13*x13*x2-k14*x14-k15*x14+k58*x10*x7-k59*x14'))\n",
    "ssm.append(sp.sympify('+k19*x2-k20*x15-k21*x16*x15+k22*x17-k23*x18*x15+k24*x19-k25*x20*x15+k26*x21-k28*x15*x15+k28*x15*x15'))\n",
    "ssm.append(sp.sympify('-k21*x16*x15+k22*x17+k38*x1-k39*x16'))\n",
    "ssm.append(sp.sympify('+k21*x16*x15-k22*x17-k54*x17'))\n",
    "ssm.append(sp.sympify('-k23*x18*x15+k24*x19+k44*x4-k45*x18'))\n",
    "ssm.append(sp.sympify('+k23*x18*x15-k24*x19-k57*x19'))\n",
    "ssm.append(sp.sympify('-k25*x20*x15+k26*x21+k50*x6-k51*x20'))\n",
    "ssm.append(sp.sympify('+k25*x20*x15-k26*x21-k60*x21'))\n",
    "ssm.append(sp.sympify('+k27+k28*x15*x15-k29*x22-k36*x22+k36*x22'))\n",
    "ssm.append(sp.sympify('+k30-k31*x23-k42*x23+k42*x23'))\n",
    "ssm.append(sp.sympify('+k32-k33*x24-k48*x24+k48*x24'))"
   ]
  },
  {
   "cell_type": "code",
   "execution_count": 12,
   "metadata": {},
   "outputs": [],
   "source": [
    "# get Sj\n",
    "def kdf(i, j):\n",
    "    if i != j:\n",
    "        return 0\n",
    "    return ks['k{}'.format(j+1)] - x0[i]\n",
    "\n",
    "def sj(j):\n",
    "    return [kdf(i, j) for i in range(len(x0))]"
   ]
  },
  {
   "cell_type": "code",
   "execution_count": 13,
   "metadata": {},
   "outputs": [],
   "source": [
    "# get Fj (df/dthetaj)\n",
    "def fj(j):\n",
    "    return [sp.diff(ssm[i], 'k{}'.format(j+1)) for i in range(len(x0))]"
   ]
  },
  {
   "cell_type": "code",
   "execution_count": 14,
   "metadata": {},
   "outputs": [],
   "source": [
    "# find J\n",
    "def makeJ():\n",
    "    J = []\n",
    "    # df1 is top row where as dx1 is the first column\n",
    "    # is dfn/dfn\n",
    "    for i in range(len(ssm)):\n",
    "        row = []\n",
    "        tod = ssm[i]\n",
    "        for n in range(len(ssm)):\n",
    "            respectto = 'x{}'.format(n+1)\n",
    "            row.append(sp.diff(tod, respectto))\n",
    "        J.append(row)\n",
    "    return J"
   ]
  },
  {
   "cell_type": "code",
   "execution_count": 15,
   "metadata": {},
   "outputs": [],
   "source": [
    "J = makeJ()\n",
    "def ddtdxdthetaj(j):\n",
    "    return np.add(np.dot(np.asarray(J), sj(j)), np.asarray(fj(j)))"
   ]
  },
  {
   "cell_type": "code",
   "execution_count": 16,
   "metadata": {},
   "outputs": [
    {
     "name": "stdout",
     "output_type": "stream",
     "text": [
      "solving dx dtheta for j 63/64\r"
     ]
    }
   ],
   "source": [
    "def integratethis(x, t, soe):\n",
    "    tosub = {}\n",
    "    tosolve = copy.deepcopy(soe)\n",
    "    for i in range(len(x)):\n",
    "        tosub['x{}'.format(i + 1)] = x[i]\n",
    "    for k in ks:\n",
    "        tosub[k] = ks[k]\n",
    "    for j in range(len(tosolve)):\n",
    "        tosolve[j] = float(tosolve[j].evalf(subs=tosub))\n",
    "\n",
    "    return list(tosolve)\n",
    "\n",
    "N = 400\n",
    "t = [i for i in range(N)]\n",
    "# the form of this solved system will be (j, N, i) so first index is the theta, the second is the time, and the third is the x\n",
    "solveddxdtheta = []\n",
    "for j in range(len(ks)): \n",
    "    print('solving dx dtheta for j {}/{}\\r'.format(j+1, len(ks)), end='')\n",
    "    soe = ddtdxdthetaj(j)\n",
    "    solveddxdtheta.append(odeint(integratethis, x0, t, args=(soe,)))\n",
    "    "
   ]
  },
  {
   "cell_type": "markdown",
   "metadata": {},
   "source": [
    "## 4. S bar\n",
    "s bar is defined as:\n",
    "![s bar](./sbar.png)"
   ]
  },
  {
   "cell_type": "code",
   "execution_count": 10,
   "metadata": {},
   "outputs": [],
   "source": [
    "# find sbar for all t\n",
    "def sbar(i, j, k):\n",
    "    return solveddxdtheta[j][k][i] * ks['k{}'.format(j+1)] / x[k][i]"
   ]
  },
  {
   "cell_type": "markdown",
   "metadata": {},
   "source": [
    "## 5 the sensitivity constants "
   ]
  },
  {
   "cell_type": "markdown",
   "metadata": {},
   "source": [
    "### Dynamic sensitivity analysis"
   ]
  },
  {
   "cell_type": "markdown",
   "metadata": {},
   "source": [
    "#### Dynamic sensitivity analysis with multiple variables\n",
    "This is equation 22 of the paper\n",
    "![Equation 22](./equation22.png)"
   ]
  },
  {
   "cell_type": "code",
   "execution_count": 11,
   "metadata": {},
   "outputs": [],
   "source": [
    "# do the innermost summation\n",
    "import math\n",
    "def inner_sum(k, j, i_range):\n",
    "    tosum = []\n",
    "    for i in range(i_range):\n",
    "        added = sbar(i, j, k)\n",
    "        if math.isnan(added):\n",
    "            print(i, j, k)\n",
    "        tosum.append(sbar(i, j, k) ** 2)\n",
    "    return sum(tosum)"
   ]
  },
  {
   "cell_type": "code",
   "execution_count": 12,
   "metadata": {},
   "outputs": [],
   "source": [
    "# do the outer summation\n",
    "def outer_sum(N, j, i_range):\n",
    "    tosum = []\n",
    "    for k in range(N):\n",
    "        tosum.append(inner_sum(k, j, i_range))\n",
    "    return sum(tosum)"
   ]
  },
  {
   "cell_type": "code",
   "execution_count": 13,
   "metadata": {},
   "outputs": [],
   "source": [
    "# do the 1/n and the sqrt\n",
    "def eqn22(N, j, i_range):\n",
    "    return (1/N) * np.sqrt(outer_sum(N, j, i_range))"
   ]
  },
  {
   "cell_type": "code",
   "execution_count": 14,
   "metadata": {},
   "outputs": [
    {
     "name": "stdout",
     "output_type": "stream",
     "text": [
      "Calculating sensitivity for j 64/64\r"
     ]
    }
   ],
   "source": [
    "# do the sensitivity analysis\n",
    "i_range = len(x[0])\n",
    "j_range = len(ks.keys())\n",
    "OS = []\n",
    "for j in range(j_range):\n",
    "    print('Calculating sensitivity for j {}/{}\\r'.format(j + 1, j_range), end='')\n",
    "    OS.append(eqn22(N, j, i_range))\n",
    "    "
   ]
  },
  {
   "cell_type": "code",
   "execution_count": 15,
   "metadata": {},
   "outputs": [
    {
     "name": "stdout",
     "output_type": "stream",
     "text": [
      "[0.004764580375185493, 8.938874719304835e-06, 0.14577330579081924, 1.216007533403133e-05, 93.32164745689079, 7.439428287068849e-06, 140.50634559018016, 1.0987785567280652e-06, 0.0012115765616361725, 0.32612666413712027, 0.0014413130482207512, 0.5271648105062732, 1358.9224546795033, 0.0023300902202060174, 0.002120418984874476, 9.292985696541316e-07, 5.248279901618624e-07, 3.803655847843834e-07, 38.602538920261495, 5.4544374984207536e-06, 1672.8871843118925, 2.6267187869781243e-05, 42.858020001628, 3.672353304170506e-05, 0.0, 0.0, 0.0, 0.0, 0.0, 0.0, 0.0, 0.0, 0.0, 0.0, 0.0, 0.0, 0.0, 0.0, 0.0, 0.0, 0.0, 0.0, 0.0, 0.0, 0.0, 0.0, 0.0, 0.0, 0.0, 0.0, 0.0, 0.0, 0.0, 0.0, 0.0, 0.0, 0.0, 0.0, 0.0, 0.0, 0.0, 0.0, 0.0, 0.0]\n"
     ]
    }
   ],
   "source": [
    "print(OS)"
   ]
  },
  {
   "cell_type": "code",
   "execution_count": 16,
   "metadata": {},
   "outputs": [
    {
     "data": {
      "text/plain": [
       "20"
      ]
     },
     "execution_count": 16,
     "metadata": {},
     "output_type": "execute_result"
    }
   ],
   "source": [
    "np.argmax(OS)"
   ]
  },
  {
   "cell_type": "code",
   "execution_count": 17,
   "metadata": {},
   "outputs": [],
   "source": [
    "counted = [(i, OS[i]) for i in range(len(OS))]"
   ]
  },
  {
   "cell_type": "code",
   "execution_count": 18,
   "metadata": {},
   "outputs": [],
   "source": [
    "counted.sort(key=lambda x: x[1], reverse=True)"
   ]
  },
  {
   "cell_type": "code",
   "execution_count": 19,
   "metadata": {},
   "outputs": [
    {
     "name": "stdout",
     "output_type": "stream",
     "text": [
      "[(20, 1672.8871843118925), (12, 1358.9224546795033), (6, 140.50634559018016), (4, 93.32164745689079), (22, 42.858020001628), (18, 38.602538920261495), (11, 0.5271648105062732), (9, 0.32612666413712027), (2, 0.14577330579081924), (0, 0.004764580375185493), (13, 0.0023300902202060174), (14, 0.002120418984874476), (10, 0.0014413130482207512), (8, 0.0012115765616361725), (23, 3.672353304170506e-05), (21, 2.6267187869781243e-05), (3, 1.216007533403133e-05), (1, 8.938874719304835e-06), (5, 7.439428287068849e-06), (19, 5.4544374984207536e-06), (7, 1.0987785567280652e-06), (15, 9.292985696541316e-07), (16, 5.248279901618624e-07), (17, 3.803655847843834e-07), (24, 0.0), (25, 0.0), (26, 0.0), (27, 0.0), (28, 0.0), (29, 0.0), (30, 0.0), (31, 0.0), (32, 0.0), (33, 0.0), (34, 0.0), (35, 0.0), (36, 0.0), (37, 0.0), (38, 0.0), (39, 0.0), (40, 0.0), (41, 0.0), (42, 0.0), (43, 0.0), (44, 0.0), (45, 0.0), (46, 0.0), (47, 0.0), (48, 0.0), (49, 0.0), (50, 0.0), (51, 0.0), (52, 0.0), (53, 0.0), (54, 0.0), (55, 0.0), (56, 0.0), (57, 0.0), (58, 0.0), (59, 0.0), (60, 0.0), (61, 0.0), (62, 0.0), (63, 0.0)]\n"
     ]
    }
   ],
   "source": [
    "print(counted)"
   ]
  },
  {
   "cell_type": "code",
   "execution_count": null,
   "metadata": {},
   "outputs": [],
   "source": []
  }
 ],
 "metadata": {
  "kernelspec": {
   "display_name": "Python 3",
   "language": "python",
   "name": "python3"
  },
  "language_info": {
   "codemirror_mode": {
    "name": "ipython",
    "version": 3
   },
   "file_extension": ".py",
   "mimetype": "text/x-python",
   "name": "python",
   "nbconvert_exporter": "python",
   "pygments_lexer": "ipython3",
   "version": "3.7.4"
  }
 },
 "nbformat": 4,
 "nbformat_minor": 4
}
