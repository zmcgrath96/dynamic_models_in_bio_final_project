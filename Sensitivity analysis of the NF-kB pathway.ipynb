{
 "cells": [
  {
   "cell_type": "markdown",
   "metadata": {},
   "source": [
    "# Sensitivity analysis of the NF-kB pathway\n",
    "The steps for this are as follow:\n",
    "1. From an equations text file, load the reaction equations and create a state space model\n",
    "2. Derivate the sensitivity matrix (sbar) from the state space model\n",
    "3. From the state space model and initial parameters, find \n",
    "    1. The initial parameters for the model (run it 1000 times from the first initial conditions)\n",
    "    2. Determine the value of x<sub>i</sub> for all i for all t in [0, N]\n",
    "4. Having the sensitivity matrix and the values of x for all desired t, calculate the sensitivity equations\n",
    "\n",
    "### All necessary imports"
   ]
  },
  {
   "cell_type": "code",
   "execution_count": 2,
   "metadata": {},
   "outputs": [],
   "source": [
    "import numpy as np\n",
    "import sympy as sp\n",
    "from scipy.integrate import odeint"
   ]
  },
  {
   "cell_type": "markdown",
   "metadata": {},
   "source": [
    "### All program constants"
   ]
  },
  {
   "cell_type": "code",
   "execution_count": 20,
   "metadata": {},
   "outputs": [],
   "source": [
    "initial_conditions_N = 2000\n",
    "N = 400\n",
    "\n",
    "pathway_file = 'pathway_eqs.txt'\n",
    "reaction_coefficients_file = 'reaction_coefficients.txt'"
   ]
  },
  {
   "cell_type": "markdown",
   "metadata": {},
   "source": [
    "## 1. Generate the state space model from reaction equations"
   ]
  },
  {
   "cell_type": "code",
   "execution_count": 48,
   "metadata": {},
   "outputs": [
    {
     "name": "stdout",
     "output_type": "stream",
     "text": [
      "ID: 1 Reactants: x1, x2, Products: x3, \n",
      "ID: 2 Reactants: x3, Products: x2, x1, \n",
      "ID: 3 Reactants: x4, x2, Products: x5, \n",
      "ID: 4 Reactants: x5, Products: x2, x4, \n",
      "ID: 5 Reactants: x6, x2, Products: x7, \n",
      "ID: 6 Reactants: x7, Products: x2, x6, \n",
      "ID: 7 Reactants: x8, x2, Products: x9, \n",
      "ID: 8 Reactants: x9, Products: x2, x8, \n",
      "ID: 9 Reactants: x9, Products: x10, x2, \n",
      "ID: 10 Reactants: x11, x2, Products: x12, \n",
      "ID: 11 Reactants: x12, Products: x2, x11, \n",
      "ID: 12 Reactants: x12, Products: x10, x2, \n",
      "ID: 13 Reactants: x13, x2, Products: x14, \n",
      "ID: 14 Reactants: x14, Products: x2, x13, \n",
      "ID: 15 Reactants: x14, Products: x10, x2, \n",
      "ID: 16 Reactants: x3, Products: x2, \n",
      "ID: 17 Reactants: x5, Products: x2, \n",
      "ID: 18 Reactants: x7, Products: x2, \n",
      "ID: 19 Reactants: x2, Products: x15, \n",
      "ID: 20 Reactants: x15, Products: x2, \n",
      "ID: 21 Reactants: x16, x15, Products: x17, \n",
      "ID: 22 Reactants: x17, Products: x15, x16, \n",
      "ID: 23 Reactants: x18, x15, Products: x19, \n",
      "ID: 24 Reactants: x19, Products: x15, x18, \n",
      "ID: 25 Reactants: x20, x15, Products: x21, \n",
      "ID: 26 Reactants: x21, Products: x15, x20, \n",
      "ID: 27 Reactants: xSOURCE, Products: x22, \n",
      "ID: 28 Reactants: x15, x15, Products: x22, x15, x15, \n",
      "ID: 29 Reactants: x22, Products: xSINK, \n",
      "ID: 30 Reactants: xSOURCE, Products: x23, \n",
      "ID: 31 Reactants: x23, Products: xSINK, \n",
      "ID: 32 Reactants: xSOURCE, Products: x24, \n",
      "ID: 33 Reactants: x24, Products: xSINK, \n",
      "ID: 34 Reactants: x10, x1, Products: x8, \n",
      "ID: 35 Reactants: x8, Products: x10, x1, \n",
      "ID: 36 Reactants: x22, Products: x1, x22, \n",
      "ID: 37 Reactants: x1, Products: xSINK, \n",
      "ID: 38 Reactants: x1, Products: x16, \n",
      "ID: 39 Reactants: x16, Products: x1, \n",
      "ID: 40 Reactants: x10, x4, Products: x11, \n",
      "ID: 41 Reactants: x11, Products: x10, x4, \n",
      "ID: 42 Reactants: x23, Products: x4, x23, \n",
      "ID: 43 Reactants: x4, Products: xSINK, \n",
      "ID: 44 Reactants: x4, Products: x18, \n",
      "ID: 45 Reactants: x18, Products: x4, \n",
      "ID: 46 Reactants: x10, x6, Products: x13, \n",
      "ID: 47 Reactants: x13, Products: x10, x6, \n",
      "ID: 48 Reactants: x24, Products: x6, x24, \n",
      "ID: 49 Reactants: x6, Products: xSINK, \n",
      "ID: 50 Reactants: x6, Products: x20, \n",
      "ID: 51 Reactants: x20, Products: x6, \n",
      "ID: 52 Reactants: x10, x3, Products: x9, \n",
      "ID: 53 Reactants: x9, Products: x10, x3, \n",
      "ID: 54 Reactants: x17, Products: x3, \n",
      "ID: 55 Reactants: x10, x5, Products: x12, \n",
      "ID: 56 Reactants: x12, Products: x10, x5, \n",
      "ID: 57 Reactants: x19, Products: x5, \n",
      "ID: 58 Reactants: x10, x7, Products: x14, \n",
      "ID: 59 Reactants: x14, Products: x10, x7, \n",
      "ID: 60 Reactants: x21, Products: x7, \n",
      "ID: 61 Reactants: x10, Products: xSINK, \n",
      "ID: 62 Reactants: x8, Products: x10, \n",
      "ID: 63 Reactants: x11, Products: x10, \n",
      "ID: 64 Reactants: x13, Products: x10, \n",
      "x1(t) = -k1*x1*x2+k2*x3-k34*x10*x1+k35*x8+k36*x22-k37*x1-k38*x1+k39*x16\n",
      "x2(t) = -k1*x1*x2+k2*x3-k3*x4*x2+k4*x5-k5*x6*x2+k6*x7-k7*x8*x2+k8*x9+k9*x9-k10*x11*x2+k11*x12+k12*x12-k13*x13*x2+k14*x14+k15*x14+k16*x3+k17*x5+k18*x7-k19*x2+k20*x15\n",
      "x3(t) = +k1*x1*x2-k2*x3-k16*x3-k52*x10*x3+k53*x9+k54*x17\n",
      "x4(t) = -k3*x4*x2+k4*x5-k40*x10*x4+k41*x11+k42*x23-k43*x4-k44*x4+k45*x18\n",
      "x5(t) = +k3*x4*x2-k4*x5-k17*x5-k55*x10*x5+k56*x12+k57*x19\n",
      "x6(t) = -k5*x6*x2+k6*x7-k46*x10*x6+k47*x13+k48*x24-k49*x6-k50*x6+k51*x20\n",
      "x7(t) = +k5*x6*x2-k6*x7-k18*x7-k58*x10*x7+k59*x14+k60*x21\n",
      "x8(t) = -k7*x8*x2+k8*x9+k34*x10*x1-k35*x8-k62*x8\n",
      "x9(t) = +k7*x8*x2-k8*x9-k9*x9+k52*x10*x3-k53*x9\n",
      "x10(t) = +k9*x9+k12*x12+k15*x14-k34*x10*x1+k35*x8-k40*x10*x4+k41*x11-k46*x10*x6+k47*x13-k52*x10*x3+k53*x9-k55*x10*x5+k56*x12-k58*x10*x7+k59*x14-k61*x10+k62*x8+k63*x11+k64*x13\n",
      "x11(t) = -k10*x11*x2+k11*x12+k40*x10*x4-k41*x11-k63*x11\n",
      "x12(t) = +k10*x11*x2-k11*x12-k12*x12+k55*x10*x5-k56*x12\n",
      "x13(t) = -k13*x13*x2+k14*x14+k46*x10*x6-k47*x13-k64*x13\n",
      "x14(t) = +k13*x13*x2-k14*x14-k15*x14+k58*x10*x7-k59*x14\n",
      "x15(t) = +k19*x2-k20*x15-k21*x16*x15+k22*x17-k23*x18*x15+k24*x19-k25*x20*x15+k26*x21-k28*x15*x15+k28*x15*x15\n",
      "x16(t) = -k21*x16*x15+k22*x17+k38*x1-k39*x16\n",
      "x17(t) = +k21*x16*x15-k22*x17-k54*x17\n",
      "x18(t) = -k23*x18*x15+k24*x19+k44*x4-k45*x18\n",
      "x19(t) = +k23*x18*x15-k24*x19-k57*x19\n",
      "x20(t) = -k25*x20*x15+k26*x21+k50*x6-k51*x20\n",
      "x21(t) = +k25*x20*x15-k26*x21-k60*x21\n",
      "x22(t) = +k27*xSOURCE+k28*x15*x15-k29*x22-k36*x22+k36*x22\n",
      "x23(t) = +k30*xSOURCE-k31*x23-k42*x23+k42*x23\n",
      "x24(t) = +k32*xSOURCE-k33*x24-k48*x24+k48*x24\n",
      "xSOURCE(t) = -k27*xSOURCE-k30*xSOURCE-k32*xSOURCE\n",
      "xSINK(t) = +k29*x22+k31*x23+k33*x24+k37*x1+k43*x4+k49*x6+k61*x10\n"
     ]
    }
   ],
   "source": [
    "import numpy as np\n",
    "\n",
    "file = open(pathway_file,\"r\")\n",
    "eqs_arr=file.readlines()\n",
    "file.close()\n",
    "eqs_arr=[i[:-1] if i[-1] == '\\n' else i for i in eqs_arr ] #remove \\n\n",
    "\n",
    "class Rxn:\n",
    "    \n",
    "    def __init__(self, ID, reactants, products):\n",
    "        #reactants and products are lists\n",
    "        self.ID = str(ID)\n",
    "        self.reactants = reactants\n",
    "        self.products = products\n",
    "        \n",
    "    def __str__(self):\n",
    "        ret = \"ID: \" + self.ID + \" Reactants: \"\n",
    "        for r in self.reactants:\n",
    "            ret = ret + r.ID + \", \"\n",
    "        ret = ret + \"Products: \"\n",
    "        for p in self.products:\n",
    "            ret = ret + p.ID + \", \"\n",
    "        return ret\n",
    "\n",
    "class RxnSpec:\n",
    "    \n",
    "    def __init__(self, ID, name):\n",
    "        self.ID = 'x' + str(ID)\n",
    "        self.name = name\n",
    "        \n",
    "    def __str__(self):\n",
    "        return 'ID: ' + self.ID + ' name: ' + self.name\n",
    "\n",
    "#list of rxn species\n",
    "rxn_species = [RxnSpec(1,'ikba'), RxnSpec(2,'nf-kb'), RxnSpec(3,'ikba-nf-kb'), RxnSpec(4,'ikbb'), RxnSpec(5,'ikbb-nf-kb'),\n",
    "              RxnSpec(6,'ikbe'),RxnSpec(7,'ikbe-nf-kb'),RxnSpec(8,'ikkikba'),RxnSpec(9,'ikkikba-nf-kb'),RxnSpec(10,'ikk'),\n",
    "              RxnSpec(11,'ikkikbb'),RxnSpec(12,'ikkikbb-nf-kb'),RxnSpec(13,'ikkikbe'),RxnSpec(14,'ikkikbe-nf-kb'),\n",
    "              RxnSpec(15,'nf-kb_n'),RxnSpec(16,'ikba_n'),RxnSpec(17,'ikba_n-nf-kb_n'),RxnSpec(18,'ikbb_n'),RxnSpec(19,'ikbb_n-nf-kb_n'),\n",
    "              RxnSpec(20,'ikbe_n'),RxnSpec(21,'ikbe_n-nf-kb_n'),RxnSpec(22,'ikba_-t'),RxnSpec(23,'ikbb_-t'),RxnSpec(24,'ikbe_-t'),RxnSpec('SOURCE','source'),RxnSpec('SINK','sink')]\n",
    "\n",
    "rxn_arr = []\n",
    "\n",
    "for idx,eq in enumerate(eqs_arr):\n",
    "    temp = eq.split('->')\n",
    "    reactants = temp[0].split('+')\n",
    "    products = temp[1].split('+')\n",
    "    #convert each element in reactants and products into a RxnSpec\n",
    "    new_reactants = []\n",
    "    new_products = []\n",
    "    for reac in reactants:\n",
    "        for rs in rxn_species:\n",
    "            if rs.name == reac:\n",
    "                new_reactants.append(rs)\n",
    "                break\n",
    "    for prod in products:\n",
    "        for rs in rxn_species:\n",
    "            \n",
    "            if rs.name == prod:\n",
    "                new_products.append(rs)\n",
    "                break\n",
    "    \n",
    "    \n",
    "    rxn = Rxn(idx+1,new_reactants, new_products)\n",
    "    rxn_arr.append(rxn)\n",
    "\n",
    "\n",
    "for rxn in rxn_arr:\n",
    "    print(rxn)\n",
    "\n",
    "state_space_model = []\n",
    "\n",
    "for rs in rxn_species:\n",
    "    eq = rs.ID + '(t) = '\n",
    "    for rxn in rxn_arr:\n",
    "        if rs.name in [i.name for i in rxn.reactants]:\n",
    "            k = '-k' + str(rxn.ID)\n",
    "            eq = eq + k\n",
    "            for reac in rxn.reactants:\n",
    "                eq = eq + '*' + reac.ID\n",
    "            \n",
    "        if rs.name in [i.name for i in rxn.products]:\n",
    "            k = '+k' + str(rxn.ID)\n",
    "            eq = eq + k\n",
    "            for reac in rxn.reactants:\n",
    "                eq = eq + '*' + reac.ID\n",
    "    state_space_model.append(eq)\n",
    "    \n",
    "for eq in state_space_model:\n",
    "    print(eq)"
   ]
  },
  {
   "cell_type": "markdown",
   "metadata": {},
   "source": [
    "## 2. Derivate the sensitivity matrix (sbar)\n",
    "\n",
    "### s̅ derivation\n",
    " s̅<sub>i,j</sub> is the value needed for calculating sensitivities\n",
    " The formula for it is the following **(from equation 13 in the Yue et. al. paper)**\n",
    " \n",
    " ```\n",
    "  s̅_i,j = (dx_i)/(dtheta_j) * theta_j/x_i \n",
    " ```\n",
    " \n",
    " where `i` is the i<sup>th</sup> state variable and `j` is j<sup>th</sup> parameter value\n",
    " \n",
    " \n",
    " x<sub>i</sub> is the i<sup>th</sup> entry in the state matrix X which is defined as\n",
    " ```\n",
    " X = [x1, x2, ...]\n",
    " ```\n",
    " \n",
    " theta<sub>j</sub> is the j<sup>th</sup> entry in the theta matrix which is defined as \n",
    " ```\n",
    " theta = [k1, k2, ...]\n",
    " ```\n",
    " "
   ]
  },
  {
   "cell_type": "code",
   "execution_count": 65,
   "metadata": {
    "scrolled": true
   },
   "outputs": [
    {
     "name": "stdout",
     "output_type": "stream",
     "text": [
      "['x1', 'x2', 'x3', 'x4', 'x5', 'x6', 'x7', 'x8', 'x9', 'x10', 'x11', 'x12', 'x13', 'x14', 'x15', 'x16', 'x17', 'x18', 'x19', 'x20', 'x21', 'x22', 'x23', 'x24']\n",
      "['k1', 'k2', 'k3', 'k4', 'k5', 'k6', 'k7', 'k8', 'k9', 'k10', 'k11', 'k12', 'k13', 'k14', 'k15', 'k16', 'k17', 'k18', 'k19', 'k20', 'k21', 'k22', 'k23', 'k24', 'k25', 'k26', 'k27', 'k28', 'k29', 'k30', 'k31', 'k32', 'k33', 'k34', 'k35', 'k36', 'k37', 'k38', 'k39', 'k40', 'k41', 'k42', 'k43', 'k44', 'k45', 'k46', 'k47', 'k48', 'k49', 'k50', 'k51', 'k52', 'k53', 'k54', 'k55', 'k56', 'k57', 'k58', 'k59', 'k60', 'k61', 'k62', 'k63', 'k64']\n"
     ]
    }
   ],
   "source": [
    "eqts = []\n",
    "xs = []\n",
    "thetas = []\n",
    "\n",
    "theta_char = 'k'\n",
    "extras = ['(', ')', '[', ']']\n",
    "\n",
    "def get_symbols(string):\n",
    "    symbols = []\n",
    "    nopows = string.split('**')\n",
    "    for nopow in nopows:\n",
    "        nodivs = nopow.split('/')\n",
    "        for nodiv in nodivs:\n",
    "            nomults = nodiv.split('*')\n",
    "            for nomult in nomults:\n",
    "                noadds = nomult.split('+')\n",
    "                for noadd in noadds:\n",
    "                    nosub = noadd.split('-')\n",
    "                    for s in nosub:\n",
    "                        for ext in extras:\n",
    "                            s = s.replace(ext, '')\n",
    "                        symbols.append(s)\n",
    "    return symbols\n",
    "\n",
    "\n",
    "for eq in state_space_model:\n",
    "    x = eq.split('=')[0].split('(')[0]\n",
    "    if x not in xs:\n",
    "        xs.append(x)\n",
    "    eqt = eq.split('=')[1].strip()\n",
    "    symbols = get_symbols(eqt)\n",
    "    for s in symbols:\n",
    "        if theta_char in s and s not in thetas:\n",
    "            thetas.append(s)\n",
    "\n",
    "    eqts.append((x, eqt))\n",
    "    \n",
    "thetas.sort(key=lambda x: int(x[1:]))   \n",
    "xs = xs[:-2]\n",
    "print(xs)\n",
    "print(thetas)"
   ]
  },
  {
   "cell_type": "markdown",
   "metadata": {},
   "source": [
    "### Find the derivatives\n",
    "The derivative list will by `i` by `j` in size, with `i` being the number of `x` variables and `j` being the number of `theta` variables"
   ]
  },
  {
   "cell_type": "code",
   "execution_count": 66,
   "metadata": {},
   "outputs": [],
   "source": [
    "derivatives = [['' for j in range(len(thetas))] for i in range(len(xs))]\n",
    "for i in range(len(xs)):\n",
    "    for j in range(len(thetas)):\n",
    "        derivatives[i][j] = sp.diff(eqts[i][1], thetas[j])"
   ]
  },
  {
   "cell_type": "markdown",
   "metadata": {},
   "source": [
    "### Calculate s̅"
   ]
  },
  {
   "cell_type": "code",
   "execution_count": 77,
   "metadata": {},
   "outputs": [
    {
     "name": "stdout",
     "output_type": "stream",
     "text": [
      "[[-2.180038243575744*k1*x1*x2, 2.180038243575744*k2*x3, 0, 0, 0, 0, 0, 0, 0, 0, 0, 0, 0, 0, 0, 0, 0, 0, 0, 0, 0, 0, 0, 0, 0, 0, 0, 0, 0, 0, 0, 0, 0, -2.180038243575744*k34*x1*x10, 2.180038243575744*k35*x8, 2.180038243575744*k36*x22, -2.180038243575744*k37*x1, -2.180038243575744*k38*x1, 2.180038243575744*k39*x16, 0, 0, 0, 0, 0, 0, 0, 0, 0, 0, 0, 0, 0, 0, 0, 0, 0, 0, 0, 0, 0, 0, 0, 0, 0], [-849.20281139417791*k1*x1*x2, 849.20281139417791*k2*x3, -849.20281139417791*k3*x2*x4, 849.20281139417791*k4*x5, -849.20281139417791*k5*x2*x6, 849.20281139417791*k6*x7, -849.20281139417791*k7*x2*x8, 849.20281139417791*k8*x9, 849.20281139417791*k9*x9, -849.20281139417791*k10*x11*x2, 849.20281139417791*k11*x12, 849.20281139417791*k12*x12, -849.20281139417791*k13*x13*x2, 849.20281139417791*k14*x14, 849.20281139417791*k15*x14, 849.20281139417791*k16*x3, 849.20281139417791*k17*x5, 849.20281139417791*k18*x7, -849.20281139417791*k19*x2, 849.20281139417791*k20*x15, 0, 0, 0, 0, 0, 0, 0, 0, 0, 0, 0, 0, 0, 0, 0, 0, 0, 0, 0, 0, 0, 0, 0, 0, 0, 0, 0, 0, 0, 0, 0, 0, 0, 0, 0, 0, 0, 0, 0, 0, 0, 0, 0, 0], [14.34840332855709*k1*x1*x2, -14.34840332855709*k2*x3, 0, 0, 0, 0, 0, 0, 0, 0, 0, 0, 0, 0, 0, -14.34840332855709*k16*x3, 0, 0, 0, 0, 0, 0, 0, 0, 0, 0, 0, 0, 0, 0, 0, 0, 0, 0, 0, 0, 0, 0, 0, 0, 0, 0, 0, 0, 0, 0, 0, 0, 0, 0, 0, -14.34840332855709*k52*x10*x3, 14.34840332855709*k53*x9, 14.34840332855709*k54*x17, 0, 0, 0, 0, 0, 0, 0, 0, 0, 0], [0, 0, -911.2136805142717*k3*x2*x4, 911.2136805142717*k4*x5, 0, 0, 0, 0, 0, 0, 0, 0, 0, 0, 0, 0, 0, 0, 0, 0, 0, 0, 0, 0, 0, 0, 0, 0, 0, 0, 0, 0, 0, 0, 0, 0, 0, 0, 0, -911.2136805142717*k40*x10*x4, 911.2136805142717*k41*x11, 911.2136805142717*k42*x23, -911.2136805142717*k43*x4, -911.2136805142717*k44*x4, 911.2136805142717*k45*x18, 0, 0, 0, 0, 0, 0, 0, 0, 0, 0, 0, 0, 0, 0, 0, 0, 0, 0, 0], [0, 0, 4282.200707386479*k3*x2*x4, -4282.200707386479*k4*x5, 0, 0, 0, 0, 0, 0, 0, 0, 0, 0, 0, 0, -4282.200707386479*k17*x5, 0, 0, 0, 0, 0, 0, 0, 0, 0, 0, 0, 0, 0, 0, 0, 0, 0, 0, 0, 0, 0, 0, 0, 0, 0, 0, 0, 0, 0, 0, 0, 0, 0, 0, 0, 0, 0, -4282.200707386479*k55*x10*x5, 4282.200707386479*k56*x12, 4282.200707386479*k57*x19, 0, 0, 0, 0, 0, 0, 0], [0, 0, 0, 0, -1312.139819385344*k5*x2*x6, 1312.139819385344*k6*x7, 0, 0, 0, 0, 0, 0, 0, 0, 0, 0, 0, 0, 0, 0, 0, 0, 0, 0, 0, 0, 0, 0, 0, 0, 0, 0, 0, 0, 0, 0, 0, 0, 0, 0, 0, 0, 0, 0, 0, -1312.139819385344*k46*x10*x6, 1312.139819385344*k47*x13, 1312.139819385344*k48*x24, -1312.139819385344*k49*x6, -1312.139819385344*k50*x6, 1312.139819385344*k51*x20, 0, 0, 0, 0, 0, 0, 0, 0, 0, 0, 0, 0, 0], [0, 0, 0, 0, 6913.8152793902398*k5*x2*x6, -6913.8152793902398*k6*x7, 0, 0, 0, 0, 0, 0, 0, 0, 0, 0, 0, -6913.8152793902398*k18*x7, 0, 0, 0, 0, 0, 0, 0, 0, 0, 0, 0, 0, 0, 0, 0, 0, 0, 0, 0, 0, 0, 0, 0, 0, 0, 0, 0, 0, 0, 0, 0, 0, 0, 0, 0, 0, 0, 0, 0, -6913.8152793902398*k58*x10*x7, 6913.8152793902398*k59*x14, 6913.8152793902398*k60*x21, 0, 0, 0, 0], [0, 0, 0, 0, 0, 0, -19.1229266859845*k7*x2*x8, 19.1229266859845*k8*x9, 0, 0, 0, 0, 0, 0, 0, 0, 0, 0, 0, 0, 0, 0, 0, 0, 0, 0, 0, 0, 0, 0, 0, 0, 0, 19.1229266859845*k34*x1*x10, -19.1229266859845*k35*x8, 0, 0, 0, 0, 0, 0, 0, 0, 0, 0, 0, 0, 0, 0, 0, 0, 0, 0, 0, 0, 0, 0, 0, 0, 0, 0, -19.1229266859845*k62*x8, 0, 0], [0, 0, 0, 0, 0, 0, 56.32307912856881*k7*x2*x8, -56.32307912856881*k8*x9, -56.32307912856881*k9*x9, 0, 0, 0, 0, 0, 0, 0, 0, 0, 0, 0, 0, 0, 0, 0, 0, 0, 0, 0, 0, 0, 0, 0, 0, 0, 0, 0, 0, 0, 0, 0, 0, 0, 0, 0, 0, 0, 0, 0, 0, 0, 0, 56.32307912856881*k52*x10*x3, -56.32307912856881*k53*x9, 0, 0, 0, 0, 0, 0, 0, 0, 0, 0, 0], [0, 0, 0, 0, 0, 0, 0, 0, 35.45161350515393*k9*x9, 0, 0, 35.45161350515393*k12*x12, 0, 0, 35.45161350515393*k15*x14, 0, 0, 0, 0, 0, 0, 0, 0, 0, 0, 0, 0, 0, 0, 0, 0, 0, 0, -35.45161350515393*k34*x1*x10, 35.45161350515393*k35*x8, 0, 0, 0, 0, -35.45161350515393*k40*x10*x4, 35.45161350515393*k41*x11, 0, 0, 0, 0, -35.45161350515393*k46*x10*x6, 35.45161350515393*k47*x13, 0, 0, 0, 0, -35.45161350515393*k52*x10*x3, 35.45161350515393*k53*x9, 0, -35.45161350515393*k55*x10*x5, 35.45161350515393*k56*x12, 0, -35.45161350515393*k58*x10*x7, 35.45161350515393*k59*x14, 0, -35.45161350515393*k61*x10, 35.45161350515393*k62*x8, 35.45161350515393*k63*x11, 35.45161350515393*k64*x13], [0, 0, 0, 0, 0, 0, 0, 0, 0, -23915.5714639173*k10*x11*x2, 23915.5714639173*k11*x12, 0, 0, 0, 0, 0, 0, 0, 0, 0, 0, 0, 0, 0, 0, 0, 0, 0, 0, 0, 0, 0, 0, 0, 0, 0, 0, 0, 0, 23915.5714639173*k40*x10*x4, -23915.5714639173*k41*x11, 0, 0, 0, 0, 0, 0, 0, 0, 0, 0, 0, 0, 0, 0, 0, 0, 0, 0, 0, 0, 0, -23915.5714639173*k63*x11, 0], [0, 0, 0, 0, 0, 0, 0, 0, 0, 33863.899008664769*k10*x11*x2, -33863.899008664769*k11*x12, -33863.899008664769*k12*x12, 0, 0, 0, 0, 0, 0, 0, 0, 0, 0, 0, 0, 0, 0, 0, 0, 0, 0, 0, 0, 0, 0, 0, 0, 0, 0, 0, 0, 0, 0, 0, 0, 0, 0, 0, 0, 0, 0, 0, 0, 0, 0, 33863.899008664769*k55*x10*x5, -33863.899008664769*k56*x12, 0, 0, 0, 0, 0, 0, 0, 0], [0, 0, 0, 0, 0, 0, 0, 0, 0, 0, 0, 0, -25850.68073259075*k13*x13*x2, 25850.68073259075*k14*x14, 0, 0, 0, 0, 0, 0, 0, 0, 0, 0, 0, 0, 0, 0, 0, 0, 0, 0, 0, 0, 0, 0, 0, 0, 0, 0, 0, 0, 0, 0, 0, 25850.68073259075*k46*x10*x6, -25850.68073259075*k47*x13, 0, 0, 0, 0, 0, 0, 0, 0, 0, 0, 0, 0, 0, 0, 0, 0, -25850.68073259075*k64*x13], [0, 0, 0, 0, 0, 0, 0, 0, 0, 0, 0, 0, 47829.6618422144*k13*x13*x2, -47829.6618422144*k14*x14, -47829.6618422144*k15*x14, 0, 0, 0, 0, 0, 0, 0, 0, 0, 0, 0, 0, 0, 0, 0, 0, 0, 0, 0, 0, 0, 0, 0, 0, 0, 0, 0, 0, 0, 0, 0, 0, 0, 0, 0, 0, 0, 0, 0, 0, 0, 0, 47829.6618422144*k58*x10*x7, -47829.6618422144*k59*x14, 0, 0, 0, 0, 0], [0, 0, 0, 0, 0, 0, 0, 0, 0, 0, 0, 0, 0, 0, 0, 0, 0, 0, 300.01289110458804*k19*x2, -300.01289110458804*k20*x15, -300.01289110458804*k21*x15*x16, 300.01289110458804*k22*x17, -300.01289110458804*k23*x15*x18, 300.01289110458804*k24*x19, -300.01289110458804*k25*x15*x20, 300.01289110458804*k26*x21, 0, 0, 0, 0, 0, 0, 0, 0, 0, 0, 0, 0, 0, 0, 0, 0, 0, 0, 0, 0, 0, 0, 0, 0, 0, 0, 0, 0, 0, 0, 0, 0, 0, 0, 0, 0, 0, 0], [0, 0, 0, 0, 0, 0, 0, 0, 0, 0, 0, 0, 0, 0, 0, 0, 0, 0, 0, 0, -15.23282036370444*k21*x15*x16, 15.23282036370444*k22*x17, 0, 0, 0, 0, 0, 0, 0, 0, 0, 0, 0, 0, 0, 0, 0, 15.23282036370444*k38*x1, -15.23282036370444*k39*x16, 0, 0, 0, 0, 0, 0, 0, 0, 0, 0, 0, 0, 0, 0, 0, 0, 0, 0, 0, 0, 0, 0, 0, 0, 0], [0, 0, 0, 0, 0, 0, 0, 0, 0, 0, 0, 0, 0, 0, 0, 0, 0, 0, 0, 0, 131.863987919112*k21*x15*x16, -131.863987919112*k22*x17, 0, 0, 0, 0, 0, 0, 0, 0, 0, 0, 0, 0, 0, 0, 0, 0, 0, 0, 0, 0, 0, 0, 0, 0, 0, 0, 0, 0, 0, 0, 0, -131.863987919112*k54*x17, 0, 0, 0, 0, 0, 0, 0, 0, 0, 0], [0, 0, 0, 0, 0, 0, 0, 0, 0, 0, 0, 0, 0, 0, 0, 0, 0, 0, 0, 0, 0, 0, -15234.4015845174*k23*x15*x18, 15234.4015845174*k24*x19, 0, 0, 0, 0, 0, 0, 0, 0, 0, 0, 0, 0, 0, 0, 0, 0, 0, 0, 0, 15234.4015845174*k44*x4, -15234.4015845174*k45*x18, 0, 0, 0, 0, 0, 0, 0, 0, 0, 0, 0, 0, 0, 0, 0, 0, 0, 0, 0], [0, 0, 0, 0, 0, 0, 0, 0, 0, 0, 0, 0, 0, 0, 0, 0, 0, 0, 0, 0, 0, 0, 60587.74200924247*k23*x15*x18, -60587.74200924247*k24*x19, 0, 0, 0, 0, 0, 0, 0, 0, 0, 0, 0, 0, 0, 0, 0, 0, 0, 0, 0, 0, 0, 0, 0, 0, 0, 0, 0, 0, 0, 0, 0, 0, -60587.74200924247*k57*x19, 0, 0, 0, 0, 0, 0, 0], [0, 0, 0, 0, 0, 0, 0, 0, 0, 0, 0, 0, 0, 0, 0, 0, 0, 0, 0, 0, 0, 0, 0, 0, -21625.16602434101*k25*x15*x20, 21625.16602434101*k26*x21, 0, 0, 0, 0, 0, 0, 0, 0, 0, 0, 0, 0, 0, 0, 0, 0, 0, 0, 0, 0, 0, 0, 0, 21625.16602434101*k50*x6, -21625.16602434101*k51*x20, 0, 0, 0, 0, 0, 0, 0, 0, 0, 0, 0, 0, 0], [0, 0, 0, 0, 0, 0, 0, 0, 0, 0, 0, 0, 0, 0, 0, 0, 0, 0, 0, 0, 0, 0, 0, 0, 85608.078223291989*k25*x15*x20, -85608.078223291989*k26*x21, 0, 0, 0, 0, 0, 0, 0, 0, 0, 0, 0, 0, 0, 0, 0, 0, 0, 0, 0, 0, 0, 0, 0, 0, 0, 0, 0, 0, 0, 0, 0, 0, 0, -85608.078223291989*k60*x21, 0, 0, 0, 0], [0, 0, 0, 0, 0, 0, 0, 0, 0, 0, 0, 0, 0, 0, 0, 0, 0, 0, 0, 0, 0, 0, 0, 0, 0, 0, 9.49324208844434*k27*xSOURCE, 9.49324208844434*k28*x15**2, -9.49324208844434*k29*x22, 0, 0, 0, 0, 0, 0, 0, 0, 0, 0, 0, 0, 0, 0, 0, 0, 0, 0, 0, 0, 0, 0, 0, 0, 0, 0, 0, 0, 0, 0, 0, 0, 0, 0, 0], [0, 0, 0, 0, 0, 0, 0, 0, 0, 0, 0, 0, 0, 0, 0, 0, 0, 0, 0, 0, 0, 0, 0, 0, 0, 0, 0, 0, 0, 3216.65530084791*k30*xSOURCE, -3216.65530084791*k31*x23, 0, 0, 0, 0, 0, 0, 0, 0, 0, 0, 0, 0, 0, 0, 0, 0, 0, 0, 0, 0, 0, 0, 0, 0, 0, 0, 0, 0, 0, 0, 0, 0, 0], [0, 0, 0, 0, 0, 0, 0, 0, 0, 0, 0, 0, 0, 0, 0, 0, 0, 0, 0, 0, 0, 0, 0, 0, 0, 0, 0, 0, 0, 0, 0, 4508.3830200860435*k32*xSOURCE, -4508.3830200860435*k33*x24, 0, 0, 0, 0, 0, 0, 0, 0, 0, 0, 0, 0, 0, 0, 0, 0, 0, 0, 0, 0, 0, 0, 0, 0, 0, 0, 0, 0, 0, 0, 0]]\n"
     ]
    }
   ],
   "source": [
    "s_bar = [['' for j in range(len(thetas))] for i in range(len(xs))]\n",
    "for i in range(len(xs)):\n",
    "    for j in range(len(thetas)):\n",
    "        s_bar[i][j] = sp.Mul((sp.Mul(sp.sympify(derivatives[i][j]) * sp.sympify(thetas[j]))), sp.sympify('{}**-1'.format(xs[i])))\n",
    "        \n",
    "print(s_bar)"
   ]
  },
  {
   "cell_type": "markdown",
   "metadata": {},
   "source": [
    "## 3. Identify the initial conditions and x(t) for all t\n",
    "1. Run the integration initial_conditions_N number of times to get initial conditions\n",
    "2. Augment these by any thing you need from the paper for actual initial conditions\n",
    "\n",
    "__NOTE__:   as of now, hard code the k values (from some source) and the partial derivatives (from the state space model)"
   ]
  },
  {
   "cell_type": "code",
   "execution_count": 69,
   "metadata": {},
   "outputs": [],
   "source": [
    "# followed the direction of this video https://www.youtube.com/watch?v=zRMmiBMjP9o\n",
    "def nf_kb(x, t):\n",
    "    # x is here to be used by (1) initial conditions and (2) x when we use odeint\n",
    "    # t is here for obvious reasons\n",
    "    \n",
    "    # define the k values\n",
    "    k1=0.5\n",
    "    k2=0.5*10**-3 \n",
    "    k3=0.5\n",
    "    k4=0.5*10**-3 \n",
    "    k5=0.5\n",
    "    k6=0.5*10**-3 \n",
    "    k7=0.5\n",
    "    k8=0.5*10**-3 \n",
    "    k9=2.04*10**-2 \n",
    "    k10=0.5\n",
    "    k11=0.5*10**-3 \n",
    "    k12=7.5*10**-3 \n",
    "    k13=0.5\n",
    "    k14=0.5*10**-3 \n",
    "    k15=1.1*10**-2 \n",
    "    k16=2.25*10**-5 \n",
    "    k17=2.25*10**-5 \n",
    "    k18=2.25*10**-5 \n",
    "    k19=0.9*10**-1 \n",
    "    k20=0.8*10**-4 \n",
    "    k21=0.5\n",
    "    k22=0.5*10**-3 \n",
    "    k23=0.5\n",
    "    k24=0.5*10**-3 \n",
    "    k25=0.5\n",
    "    k26=0.5*10**-3 \n",
    "    k27=1.54*10**-6  \n",
    "    k28=1.65*10**-2  \n",
    "    k29=2.8*10**-4 \n",
    "    k30=1.78*10**-7  \n",
    "    k31=2.8*10**-4 \n",
    "    k32=1.27*10**-7  \n",
    "    k33=2.8*10**-4 \n",
    "    k34=22.5*10**-3  \n",
    "    k35=1.25*10**-3 \n",
    "    k36=4.08*10**-3 \n",
    "    k37=1.13*10**-4 \n",
    "    k38=3*10**-4 \n",
    "    k39=2*10**-4 \n",
    "    k40=6.0*10**-3  \n",
    "    k41=1.75*10**-3 \n",
    "    k42=4.08*10**-3 \n",
    "    k43=1.13*10**-4 \n",
    "    k44=1.5*10**-4 \n",
    "    k45=1*10**-4 \n",
    "    k46=9.0*10**-3  \n",
    "    k47=1.75*10**-3 \n",
    "    k48=4.08*10**-3 \n",
    "    k49=1.13*10**-4 \n",
    "    k50=1.5*10**-4 \n",
    "    k51=1*10**-4 \n",
    "    k52=1.85*10**-1  \n",
    "    k53=1.25*10**-3 \n",
    "    k54=1.38*10**-2 \n",
    "    k55=4.8*10**-2  \n",
    "    k56=1.75*10**-3 \n",
    "    k57=5.2*10**-3 \n",
    "    k58=7.0*10**-2  \n",
    "    k59=1.75*10**-3 \n",
    "    k60=5.2*10**-3 \n",
    "    k61=1.2*10**-4 \n",
    "    k62=4.07*10**-3 \n",
    "    k63=1.5*10**-3 \n",
    "    k64=2.2*10**-3 \n",
    "    \n",
    "    # im lazy and make it easy to read\n",
    "    x1 = x[0]\n",
    "    x2 = x[1]\n",
    "    x3 = x[2]\n",
    "    x4 = x[3]\n",
    "    x5 = x[4]\n",
    "    x6 = x[5]\n",
    "    x7 = x[6]\n",
    "    x8 = x[7]\n",
    "    x9 = x[8]\n",
    "    x10 = x[9]\n",
    "    x11 = x[10]\n",
    "    x12 = x[11]\n",
    "    x13 = x[12]\n",
    "    x14 = x[13]\n",
    "    x15 = x[14]\n",
    "    x16 = x[15]\n",
    "    x17 = x[16]\n",
    "    x18 = x[17]\n",
    "    x19 = x[18]\n",
    "    x20 = x[19]\n",
    "    x21 = x[20]\n",
    "    x22 = x[21]\n",
    "    x23 = x[22]\n",
    "    x24 = x[23]\n",
    "    \n",
    "    dx1dt = -k1*x1*x2+k2*x3-k34*x10*x1+k35*x8+k36*x22-k37*x1-k38*x1+k39*x16\n",
    "    dx2dt = -k1*x1*x2+k2*x3-k3*x4*x2+k4*x5-k5*x6*x2+k6*x7-k7*x8*x2+k8*x9+k9*x9-k10*x11*x2+k11*x12+k12*x12-k13*x13*x2+k14*x14+k15*x14+k16*x3+k17*x5+k18*x7-k19*x2+k20*x15\n",
    "    dx3dt = +k1*x1*x2-k2*x3-k16*x3-k52*x10*x3+k53*x9+k54*x17\n",
    "    dx4dt = -k3*x4*x2+k4*x5-k40*x10*x4+k41*x11+k42*x23-k43*x4-k44*x4+k45*x18\n",
    "    dx5dt = +k3*x4*x2-k4*x5-k17*x5-k55*x10*x5+k56*x12+k57*x19\n",
    "    dx6dt = -k5*x6*x2+k6*x7-k46*x10*x6+k47*x13+k48*x24-k49*x6-k50*x6+k51*x20\n",
    "    dx7dt = +k5*x6*x2-k6*x7-k18*x7-k58*x10*x7+k59*x14+k60*x21\n",
    "    dx8dt = -k7*x8*x2+k8*x9+k34*x10*x1-k35*x8-k62*x8\n",
    "    dx9dt = +k7*x8*x2-k8*x9-k9*x9+k52*x10*x3-k53*x9\n",
    "    dx10dt = +k9*x9+k12*x12+k15*x14-k34*x10*x1+k35*x8-k40*x10*x4+k41*x11-k46*x10*x6+k47*x13-k52*x10*x3+k53*x9-k55*x10*x5+k56*x12-k58*x10*x7+k59*x14-k61*x10+k62*x8+k63*x11+k64*x13\n",
    "    dx11dt = -k10*x11*x2+k11*x12+k40*x10*x4-k41*x11-k63*x11\n",
    "    dx12dt = +k10*x11*x2-k11*x12-k12*x12+k55*x10*x5-k56*x12\n",
    "    dx13dt = -k13*x13*x2+k14*x14+k46*x10*x6-k47*x13-k64*x13\n",
    "    dx14dt = +k13*x13*x2-k14*x14-k15*x14+k58*x10*x7-k59*x14\n",
    "    dx15dt = +k19*x2-k20*x15-k21*x16*x15+k22*x17-k23*x18*x15+k24*x19-k25*x20*x15+k26*x21-k28*x15*x15+k28*x15*x15\n",
    "    dx16dt = -k21*x16*x15+k22*x17+k38*x1-k39*x16\n",
    "    dx17dt = +k21*x16*x15-k22*x17-k54*x17\n",
    "    dx18dt = -k23*x18*x15+k24*x19+k44*x4-k45*x18\n",
    "    dx19dt = +k23*x18*x15-k24*x19-k57*x19\n",
    "    dx20dt = -k25*x20*x15+k26*x21+k50*x6-k51*x20\n",
    "    dx21dt = +k25*x20*x15-k26*x21-k60*x21\n",
    "    dx22dt = +k27+k28*x15*x15-k29*x22-k36*x22+k36*x22\n",
    "    dx23dt = +k30-k31*x23-k42*x23+k42*x23\n",
    "    dx24dt = +k32-k33*x24-k48*x24+k48*x24\n",
    "    \n",
    "    \n",
    "    return [dx1dt, dx2dt, dx3dt, dx4dt, dx5dt, dx6dt, dx7dt, dx8dt,\n",
    "            dx9dt, dx10dt, dx11dt, dx12dt, dx13dt, dx14dt, dx15dt, dx16dt, \n",
    "            dx17dt, dx18dt, dx19dt, dx20dt, dx21dt, dx22dt, dx23dt, dx24dt]\n",
    "# first run for the initial conditions\n",
    "T = initial_conditions_N\n",
    "x0x0 = [0, 0.1] + [0 for i in range(22)]\n",
    "t = np.asarray(range(T))\n",
    "\n",
    "init_conditions = odeint(nf_kb, x0x0, t)"
   ]
  },
  {
   "cell_type": "markdown",
   "metadata": {},
   "source": [
    "Now we have the initial conditions, so we need to augment this by paper specific parameters"
   ]
  },
  {
   "cell_type": "code",
   "execution_count": 70,
   "metadata": {},
   "outputs": [],
   "source": [
    "# ok now do it for the simulation\n",
    "T = N\n",
    "x0 = init_conditions[-1]\n",
    "# fill in the extra stuff in the paper, IKK at 0.1 (x10, index 9) PAPER SPECIFIC\n",
    "x0[9] = 0.1\n",
    "t = np.asarray(range(T))\n",
    "\n",
    "x = odeint(nf_kb, x0, t)\n",
    "# x has the shape of \n",
    "# [N, i] (an entry for all x for all N)"
   ]
  },
  {
   "cell_type": "markdown",
   "metadata": {},
   "source": [
    "## 4 the sensitivity constants "
   ]
  },
  {
   "cell_type": "markdown",
   "metadata": {},
   "source": [
    "### Dynamic sensitivity analysis\n",
    "ok so we have these components\n",
    "* x<sub>i</sub>(t) for all i in [1, 24] (in `x`)\n",
    "* sensitivity matrix (sbar) as a function of k<sub>j</sub> and x<sub>i</sub> (in `s_bar`)\n",
    "* k<sub>j</sub> for all j [1, 64] (in `reaction_coefficients.txt`)\n",
    "\n",
    "Using these components, we can calculate equations (21) and (22)"
   ]
  },
  {
   "cell_type": "code",
   "execution_count": 71,
   "metadata": {},
   "outputs": [],
   "source": [
    "# get x(t) for all t\n",
    "xt = {}\n",
    "for xs in x:\n",
    "    for i in range(len(xs)):\n",
    "        key = 'x{}'.format(i+1) \n",
    "        if key not in xt:\n",
    "            xt[key] = []\n",
    "        xt[key].append(xs[i])\n",
    "        \n",
    "# get all of the ks\n",
    "ks = {}\n",
    "with open('./reaction_coefficients.txt', 'r') as o:\n",
    "    for line in o:\n",
    "        k = line.split('=')[0]\n",
    "        ks[k] = sp.sympify(line.split('=')[1].replace('\\n', '').strip()).evalf()\n",
    "        "
   ]
  },
  {
   "cell_type": "markdown",
   "metadata": {},
   "source": [
    "#### Dynamic sensitivity analysis with multiple variables\n",
    "This is equation 22 of the paper\n",
    "![Equation 22](./equation22.png)"
   ]
  },
  {
   "cell_type": "code",
   "execution_count": 78,
   "metadata": {},
   "outputs": [],
   "source": [
    "# calc sbar \n",
    "def sbar(i, j, k):\n",
    "    # get all the substitute values for the expression\n",
    "    # get the row of xt for the k\n",
    "    tosub = {}\n",
    "    for key in xt.keys():\n",
    "        tosub[key] = xt[key][k]\n",
    "    # get all the ks\n",
    "    for key in ks.keys():\n",
    "        tosub[key] = ks[key]\n",
    "    # add xSOURCE here becuase i'm lazy\n",
    "    tosub['xSOURCE'] = 1\n",
    "    # get the i j entry of sbar\n",
    "    s = s_bar[i][j] \n",
    "    # substitute and eval\n",
    "    a = s.evalf(subs=tosub)\n",
    "    b = float(a)\n",
    "    return b"
   ]
  },
  {
   "cell_type": "code",
   "execution_count": 79,
   "metadata": {},
   "outputs": [],
   "source": [
    "# do the intermost summation\n",
    "def inner_sum(k, j, i_range):\n",
    "    tosum = []\n",
    "    for i in range(i_range):\n",
    "        tosum.append(sbar(i, j, k) ** 2)\n",
    "    return sum(tosum)"
   ]
  },
  {
   "cell_type": "code",
   "execution_count": 80,
   "metadata": {},
   "outputs": [],
   "source": [
    "# do the outer summation\n",
    "def outer_sum(N, j, i_range):\n",
    "    tosum = []\n",
    "    for k in range(N):\n",
    "        tosum.append(inner_sum(k, j, i_range))\n",
    "    return sum(tosum)"
   ]
  },
  {
   "cell_type": "code",
   "execution_count": 81,
   "metadata": {},
   "outputs": [],
   "source": [
    "# do the 1/n and the sqrt\n",
    "def eqn22(N, j, i_range):\n",
    "    return (1/N) * np.sqrt(outer_sum(N, j, i_range))"
   ]
  },
  {
   "cell_type": "code",
   "execution_count": 82,
   "metadata": {},
   "outputs": [
    {
     "name": "stdout",
     "output_type": "stream",
     "text": [
      "Calculating sensitivity for j 63/64\r"
     ]
    }
   ],
   "source": [
    "# do the sensitivity analysis\n",
    "i_range = len(xt.keys())\n",
    "j_range = len(ks.keys())\n",
    "OS = []\n",
    "for j in range(j_range):\n",
    "    print('Calculating sensitivity for j {}/{}\\r'.format(j, j_range), end='')\n",
    "    OS.append(eqn22(N, j, i_range))\n",
    "    "
   ]
  },
  {
   "cell_type": "code",
   "execution_count": 60,
   "metadata": {},
   "outputs": [
    {
     "name": "stdout",
     "output_type": "stream",
     "text": [
      "[0.012606868477709383, 0.002139742008698113, 3.0284490420657284e-05, 2.50000000000001e-05, 3.0284490420657284e-05, 2.50000000000001e-05, 0.00117954224835337, 0.0004040432246874984, 0.016488556023871757, 3.0284490420657284e-05, 2.50000000000001e-05, 0.0003750000000000015, 3.0284490420657284e-05, 2.50000000000001e-05, 0.0005500000000000021, 9.628826272690887e-05, 1.1249999999999985e-06, 1.1249999999999985e-06, 0.004792544205984789, 1.2788883107641217e-05, 0.0017064429323142526, 5.232680969201812e-05, 9.127470937396257e-05, 2.50000000000001e-05, 9.127470937396257e-05, 2.50000000000001e-05, 7.699999999999967e-08, 1.0584138100139348e-07, 1.8254311526631807e-05, 8.9e-09, 1.3999999999999985e-05, 6.350000000000014e-09, 1.3999999999999985e-05, 0.0031594224543595247, 0.00011729860416039133, 4.441714826725462e-05, 2.2699662897383745e-05, 0.00013393158061274723, 1.0068258476612847e-05, 1.0843891228224274e-05, 8.750000000000031e-05, 0.0, 5.650000000000005e-06, 7.500000000000027e-06, 4.999999999999983e-06, 1.6265836842336425e-05, 8.750000000000031e-05, 0.0, 5.650000000000005e-06, 7.500000000000027e-06, 4.999999999999983e-06, 0.0033206640018099086, 7.558314271049252e-05, 0.0006931563676635437, 8.67511298257942e-05, 8.750000000000031e-05, 0.00026000000000000074, 0.00012651206432928326, 8.750000000000031e-05, 0.00026000000000000074, 6.246484293476733e-06, 0.0003814210718457893, 7.499999999999968e-05, 0.00011000000000000048]\n"
     ]
    }
   ],
   "source": [
    "print(OS)"
   ]
  },
  {
   "cell_type": "code",
   "execution_count": 61,
   "metadata": {},
   "outputs": [
    {
     "data": {
      "text/plain": [
       "8"
      ]
     },
     "execution_count": 61,
     "metadata": {},
     "output_type": "execute_result"
    }
   ],
   "source": [
    "np.argmax(OS)"
   ]
  },
  {
   "cell_type": "code",
   "execution_count": 62,
   "metadata": {},
   "outputs": [],
   "source": [
    "counted = [(i, OS[i]) for i in range(len(OS))]"
   ]
  },
  {
   "cell_type": "code",
   "execution_count": 63,
   "metadata": {},
   "outputs": [],
   "source": [
    "counted.sort(key=lambda x: x[1], reverse=True)"
   ]
  },
  {
   "cell_type": "code",
   "execution_count": 64,
   "metadata": {},
   "outputs": [
    {
     "name": "stdout",
     "output_type": "stream",
     "text": [
      "[(8, 0.016488556023871757), (0, 0.012606868477709383), (18, 0.004792544205984789), (51, 0.0033206640018099086), (33, 0.0031594224543595247), (1, 0.002139742008698113), (20, 0.0017064429323142526), (6, 0.00117954224835337), (53, 0.0006931563676635437), (14, 0.0005500000000000021), (7, 0.0004040432246874984), (61, 0.0003814210718457893), (11, 0.0003750000000000015), (56, 0.00026000000000000074), (59, 0.00026000000000000074), (37, 0.00013393158061274723), (57, 0.00012651206432928326), (34, 0.00011729860416039133), (63, 0.00011000000000000048), (15, 9.628826272690887e-05), (22, 9.127470937396257e-05), (24, 9.127470937396257e-05), (40, 8.750000000000031e-05), (46, 8.750000000000031e-05), (55, 8.750000000000031e-05), (58, 8.750000000000031e-05), (54, 8.67511298257942e-05), (52, 7.558314271049252e-05), (62, 7.499999999999968e-05), (21, 5.232680969201812e-05), (35, 4.441714826725462e-05), (2, 3.0284490420657284e-05), (4, 3.0284490420657284e-05), (9, 3.0284490420657284e-05), (12, 3.0284490420657284e-05), (3, 2.50000000000001e-05), (5, 2.50000000000001e-05), (10, 2.50000000000001e-05), (13, 2.50000000000001e-05), (23, 2.50000000000001e-05), (25, 2.50000000000001e-05), (36, 2.2699662897383745e-05), (28, 1.8254311526631807e-05), (45, 1.6265836842336425e-05), (30, 1.3999999999999985e-05), (32, 1.3999999999999985e-05), (19, 1.2788883107641217e-05), (39, 1.0843891228224274e-05), (38, 1.0068258476612847e-05), (43, 7.500000000000027e-06), (49, 7.500000000000027e-06), (60, 6.246484293476733e-06), (42, 5.650000000000005e-06), (48, 5.650000000000005e-06), (44, 4.999999999999983e-06), (50, 4.999999999999983e-06), (16, 1.1249999999999985e-06), (17, 1.1249999999999985e-06), (27, 1.0584138100139348e-07), (26, 7.699999999999967e-08), (29, 8.9e-09), (31, 6.350000000000014e-09), (41, 0.0), (47, 0.0)]\n"
     ]
    }
   ],
   "source": [
    "print(counted)"
   ]
  },
  {
   "cell_type": "code",
   "execution_count": null,
   "metadata": {},
   "outputs": [],
   "source": []
  }
 ],
 "metadata": {
  "kernelspec": {
   "display_name": "Python 3",
   "language": "python",
   "name": "python3"
  },
  "language_info": {
   "codemirror_mode": {
    "name": "ipython",
    "version": 3
   },
   "file_extension": ".py",
   "mimetype": "text/x-python",
   "name": "python",
   "nbconvert_exporter": "python",
   "pygments_lexer": "ipython3",
   "version": "3.7.4"
  }
 },
 "nbformat": 4,
 "nbformat_minor": 4
}
