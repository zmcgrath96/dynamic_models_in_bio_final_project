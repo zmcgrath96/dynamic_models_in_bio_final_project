{
 "cells": [
  {
   "cell_type": "code",
   "execution_count": 1,
   "metadata": {},
   "outputs": [],
   "source": [
    "import numpy as np"
   ]
  },
  {
   "cell_type": "code",
   "execution_count": 2,
   "metadata": {},
   "outputs": [],
   "source": [
    "file = open(\"pathway_eqs.txt\",\"r\")\n",
    "eqs_arr=file.readlines()\n",
    "file.close()\n",
    "eqs_arr=[i[:-1] if i[-1] == '\\n' else i for i in eqs_arr ] #remove \\n"
   ]
  },
  {
   "cell_type": "code",
   "execution_count": 3,
   "metadata": {},
   "outputs": [],
   "source": [
    "class Rxn:\n",
    "    \n",
    "    def __init__(self, ID, reactants, products):\n",
    "        #reactants and products are lists\n",
    "        self.ID = str(ID)\n",
    "        self.reactants = reactants\n",
    "        self.products = products\n",
    "        \n",
    "    def __str__(self):\n",
    "        ret = \"ID: \" + self.ID + \" Reactants: \"\n",
    "        for r in self.reactants:\n",
    "            ret = ret + r.ID + \", \"\n",
    "        ret = ret + \"Products: \"\n",
    "        for p in self.products:\n",
    "            ret = ret + p.ID + \", \"\n",
    "        return ret\n",
    "\n",
    "class RxnSpec:\n",
    "    \n",
    "    def __init__(self, ID, name):\n",
    "        self.ID = 'x' + str(ID)\n",
    "        self.name = name\n",
    "        \n",
    "    def __str__(self):\n",
    "        return 'ID: ' + self.ID + ' name: ' + self.name"
   ]
  },
  {
   "cell_type": "code",
   "execution_count": 4,
   "metadata": {},
   "outputs": [],
   "source": [
    "#list of rxn species\n",
    "rxn_species = [RxnSpec(1,'ikba'), RxnSpec(2,'nf-kb'), RxnSpec(3,'ikba-nf-kb'), RxnSpec(4,'ikbb'), RxnSpec(5,'ikbb-nf-kb'),\n",
    "              RxnSpec(6,'ikbe'),RxnSpec(7,'ikbe-nf-kb'),RxnSpec(8,'ikkikba'),RxnSpec(9,'ikkikba-nf-kb'),RxnSpec(10,'ikk'),\n",
    "              RxnSpec(11,'ikkikbb'),RxnSpec(12,'ikkikbb-nf-kb'),RxnSpec(13,'ikkikbe'),RxnSpec(14,'ikkikbe-nf-kb'),\n",
    "              RxnSpec(15,'nf-kb_n'),RxnSpec(16,'ikba_n'),RxnSpec(17,'ikba_n-nf-kb_n'),RxnSpec(18,'ikbb_n'),RxnSpec(19,'ikbb_n-nf-kb_n'),\n",
    "              RxnSpec(20,'ikbe_n'),RxnSpec(21,'ikbe_n-nf-kb_n'),RxnSpec(22,'ikba_-t'),RxnSpec(23,'ikbb_-t'),RxnSpec(24,'ikbe_-t'),RxnSpec('SOURCE','source'),RxnSpec('SINK','sink')]"
   ]
  },
  {
   "cell_type": "code",
   "execution_count": 5,
   "metadata": {},
   "outputs": [],
   "source": [
    "rxn_arr = []\n",
    "\n",
    "for idx,eq in enumerate(eqs_arr):\n",
    "    temp = eq.split('->')\n",
    "    reactants = temp[0].split('+')\n",
    "    products = temp[1].split('+')\n",
    "    #convert each element in reactants and products into a RxnSpec\n",
    "    new_reactants = []\n",
    "    new_products = []\n",
    "    for reac in reactants:\n",
    "        for rs in rxn_species:\n",
    "            if rs.name == reac:\n",
    "                new_reactants.append(rs)\n",
    "                break\n",
    "    for prod in products:\n",
    "        for rs in rxn_species:\n",
    "            \n",
    "            if rs.name == prod:\n",
    "                new_products.append(rs)\n",
    "                break\n",
    "    \n",
    "    \n",
    "    rxn = Rxn(idx+1,new_reactants, new_products)\n",
    "    rxn_arr.append(rxn)\n"
   ]
  },
  {
   "cell_type": "code",
   "execution_count": 6,
   "metadata": {},
   "outputs": [
    {
     "name": "stdout",
     "output_type": "stream",
     "text": [
      "ID: 1 Reactants: x1, x2, Products: x3, \n",
      "ID: 2 Reactants: x3, Products: x2, x1, \n",
      "ID: 3 Reactants: x4, x2, Products: x5, \n",
      "ID: 4 Reactants: x5, Products: x2, x4, \n",
      "ID: 5 Reactants: x6, x2, Products: x7, \n",
      "ID: 6 Reactants: x7, Products: x2, x6, \n",
      "ID: 7 Reactants: x8, x2, Products: x9, \n",
      "ID: 8 Reactants: x9, Products: x2, x8, \n",
      "ID: 9 Reactants: x9, Products: x10, x2, \n",
      "ID: 10 Reactants: x11, x2, Products: x12, \n",
      "ID: 11 Reactants: x12, Products: x2, x11, \n",
      "ID: 12 Reactants: x12, Products: x10, x2, \n",
      "ID: 13 Reactants: x13, x2, Products: x14, \n",
      "ID: 14 Reactants: x14, Products: x2, x13, \n",
      "ID: 15 Reactants: x14, Products: x10, x2, \n",
      "ID: 16 Reactants: x3, Products: x2, \n",
      "ID: 17 Reactants: x5, Products: x2, \n",
      "ID: 18 Reactants: x7, Products: x2, \n",
      "ID: 19 Reactants: x2, Products: x15, \n",
      "ID: 20 Reactants: x15, Products: x2, \n",
      "ID: 21 Reactants: x16, x15, Products: x17, \n",
      "ID: 22 Reactants: x17, Products: x15, x16, \n",
      "ID: 23 Reactants: x18, x15, Products: x19, \n",
      "ID: 24 Reactants: x19, Products: x15, x18, \n",
      "ID: 25 Reactants: x20, x15, Products: x21, \n",
      "ID: 26 Reactants: x21, Products: x15, x20, \n",
      "ID: 27 Reactants: xSOURCE, Products: x22, \n",
      "ID: 28 Reactants: x15, x15, Products: x22, x15, x15, \n",
      "ID: 29 Reactants: x22, Products: xSINK, \n",
      "ID: 30 Reactants: xSOURCE, Products: x23, \n",
      "ID: 31 Reactants: x23, Products: xSINK, \n",
      "ID: 32 Reactants: xSOURCE, Products: x24, \n",
      "ID: 33 Reactants: x24, Products: xSINK, \n",
      "ID: 34 Reactants: x10, x1, Products: x8, \n",
      "ID: 35 Reactants: x8, Products: x10, x1, \n",
      "ID: 36 Reactants: x22, Products: x1, x22, \n",
      "ID: 37 Reactants: x1, Products: xSINK, \n",
      "ID: 38 Reactants: x1, Products: x16, \n",
      "ID: 39 Reactants: x16, Products: x1, \n",
      "ID: 40 Reactants: x10, x4, Products: x11, \n",
      "ID: 41 Reactants: x11, Products: x10, x4, \n",
      "ID: 42 Reactants: x23, Products: x4, x23, \n",
      "ID: 43 Reactants: x4, Products: xSINK, \n",
      "ID: 44 Reactants: x4, Products: x18, \n",
      "ID: 45 Reactants: x18, Products: x4, \n",
      "ID: 46 Reactants: x10, x6, Products: x13, \n",
      "ID: 47 Reactants: x13, Products: x10, x6, \n",
      "ID: 48 Reactants: x24, Products: x6, x24, \n",
      "ID: 49 Reactants: x6, Products: xSINK, \n",
      "ID: 50 Reactants: x6, Products: x20, \n",
      "ID: 51 Reactants: x20, Products: x6, \n",
      "ID: 52 Reactants: x10, x3, Products: x9, \n",
      "ID: 53 Reactants: x9, Products: x10, x3, \n",
      "ID: 54 Reactants: x17, Products: x3, \n",
      "ID: 55 Reactants: x10, x5, Products: x12, \n",
      "ID: 56 Reactants: x12, Products: x10, x5, \n",
      "ID: 57 Reactants: x19, Products: x5, \n",
      "ID: 58 Reactants: x10, x7, Products: x14, \n",
      "ID: 59 Reactants: x14, Products: x10, x7, \n",
      "ID: 60 Reactants: x21, Products: x7, \n",
      "ID: 61 Reactants: x10, Products: xSINK, \n",
      "ID: 62 Reactants: x8, Products: x10, \n",
      "ID: 63 Reactants: x11, Products: x10, \n",
      "ID: 64 Reactants: x13, Products: x10, \n"
     ]
    }
   ],
   "source": [
    "for rxn in rxn_arr:\n",
    "    print(rxn)"
   ]
  },
  {
   "cell_type": "code",
   "execution_count": 7,
   "metadata": {},
   "outputs": [],
   "source": [
    "state_space_model = []\n",
    "\n",
    "for rs in rxn_species:\n",
    "    eq = rs.ID + '(t) = '\n",
    "    for rxn in rxn_arr:\n",
    "        if rs.name in [i.name for i in rxn.reactants]:\n",
    "            k = '-k' + str(rxn.ID)\n",
    "            eq = eq + k\n",
    "            for reac in rxn.reactants:\n",
    "                eq = eq + '*' + reac.ID\n",
    "            \n",
    "        if rs.name in [i.name for i in rxn.products]:\n",
    "            k = '+k' + str(rxn.ID)\n",
    "            eq = eq + k\n",
    "            for reac in rxn.reactants:\n",
    "                eq = eq + '*' + reac.ID\n",
    "    state_space_model.append(eq)\n",
    "    \n",
    "\n",
    "#for s in state_space_model:\n",
    "#    print(s)"
   ]
  },
  {
   "cell_type": "code",
   "execution_count": 8,
   "metadata": {},
   "outputs": [],
   "source": [
    "out = open('state_space_derivation.txt','w')\n",
    "for s in state_space_model:\n",
    "    out.write(s + '\\n')\n",
    "\n",
    "out.close()"
   ]
  },
  {
   "cell_type": "code",
   "execution_count": null,
   "metadata": {},
   "outputs": [],
   "source": []
  }
 ],
 "metadata": {
  "kernelspec": {
   "display_name": "Python 3",
   "language": "python",
   "name": "python3"
  },
  "language_info": {
   "codemirror_mode": {
    "name": "ipython",
    "version": 3
   },
   "file_extension": ".py",
   "mimetype": "text/x-python",
   "name": "python",
   "nbconvert_exporter": "python",
   "pygments_lexer": "ipython3",
   "version": "3.7.4"
  }
 },
 "nbformat": 4,
 "nbformat_minor": 2
}
