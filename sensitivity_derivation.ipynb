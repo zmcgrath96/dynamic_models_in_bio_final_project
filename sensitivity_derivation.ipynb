{
 "cells": [
  {
   "cell_type": "markdown",
   "metadata": {},
   "source": [
    "# s̅ derivation\n",
    " s̅<sub>i,j</sub> is the value needed for calculating sensitivities\n",
    " The formula for it is the following **(from equation 13 in the Yue et. al. paper)**\n",
    " \n",
    " ```\n",
    "  s̅_i,j = (dx_i)/(dtheta_j) * theta_j/x_i \n",
    " ```\n",
    " \n",
    " where `i` is the i<sup>th</sup> state variable and `j` is j<sup>th</sup> parameter value\n",
    " \n",
    " \n",
    " x<sub>i</sub> is the i<sup>th</sup> entry in the state matrix X which is defined as\n",
    " ```\n",
    " X = [x1, x2, ...]\n",
    " ```\n",
    " \n",
    " theta<sub>j</sub> is the j<sup>th</sup> entry in the theta matrix which is defined as \n",
    " ```\n",
    " theta = [k1, k2, ...]\n",
    " ```\n",
    " \n",
    " ### Derivation\n",
    " The symbol library `sympy` is good for derivatives. Heres a link to some examples:\n",
    " \n",
    " https://towardsdatascience.com/taking-derivatives-in-python-d6229ba72c64\n",
    " \n",
    " #### Example"
   ]
  },
  {
   "cell_type": "code",
   "execution_count": 2,
   "metadata": {},
   "outputs": [
    {
     "name": "stdout",
     "output_type": "stream",
     "text": [
      "2*x\n"
     ]
    }
   ],
   "source": [
    "import sympy as sp\n",
    "x = sp.Symbol('x')\n",
    "y = sp.diff('x**2', x)\n",
    "print(y)"
   ]
  },
  {
   "cell_type": "markdown",
   "metadata": {},
   "source": [
    "#### Example algebra"
   ]
  },
  {
   "cell_type": "code",
   "execution_count": 3,
   "metadata": {},
   "outputs": [
    {
     "name": "stdout",
     "output_type": "stream",
     "text": [
      "v*(x + y)\n",
      "v*(x + y)/c\n"
     ]
    }
   ],
   "source": [
    "eq = 'x+y'\n",
    "neweq = sp.Mul(sp.sympify(eq), sp.sympify('v'))\n",
    "print(neweq)\n",
    "neweq2 = sp.Mul(neweq, sp.sympify('c**-1'))\n",
    "print(neweq2)"
   ]
  },
  {
   "cell_type": "markdown",
   "metadata": {},
   "source": [
    "## Perform the derivation\n",
    "### Load state space model"
   ]
  },
  {
   "cell_type": "code",
   "execution_count": 12,
   "metadata": {},
   "outputs": [
    {
     "name": "stdout",
     "output_type": "stream",
     "text": [
      "['x1', 'x2', 'x3', 'x4', 'x5', 'x6', 'x7', 'x8', 'x9', 'x10', 'x11', 'x12', 'x13', 'x14', 'x15', 'x16', 'x17', 'x18', 'x19', 'x20', 'x21', 'x22', 'x23', 'x24']\n",
      "['k1', 'k2', 'k3', 'k4', 'k5', 'k6', 'k7', 'k8', 'k9', 'k10', 'k11', 'k12', 'k13', 'k14', 'k15', 'k16', 'k17', 'k18', 'k19', 'k20', 'k21', 'k22', 'k23', 'k24', 'k25', 'k26', 'k27', 'k28', 'k29', 'k30', 'k31', 'k32', 'k33', 'k34', 'k35', 'k36', 'k37', 'k38', 'k39', 'k40', 'k41', 'k42', 'k43', 'k44', 'k45', 'k46', 'k47', 'k48', 'k49', 'k50', 'k51', 'k52', 'k53', 'k54', 'k55', 'k56', 'k57', 'k58', 'k59', 'k60', 'k61', 'k62', 'k63']\n"
     ]
    }
   ],
   "source": [
    "import sympy as sp\n",
    "\n",
    "ssm_file = '/Users/zacharymcgrath/Documents/School/Spring 2020/Dynamic Systems in Biology/dynamic_models_in_bio_final_project/state_space_derivation.txt'\n",
    "eqts = []\n",
    "xs = []\n",
    "thetas = []\n",
    "\n",
    "theta_char = 'k'\n",
    "extras = ['(', ')', '[', ']']\n",
    "\n",
    "def get_symbols(string):\n",
    "    symbols = []\n",
    "    nopows = string.split('**')\n",
    "    for nopow in nopows:\n",
    "        nodivs = nopow.split('/')\n",
    "        for nodiv in nodivs:\n",
    "            nomults = nodiv.split('*')\n",
    "            for nomult in nomults:\n",
    "                noadds = nomult.split('+')\n",
    "                for noadd in noadds:\n",
    "                    nosub = noadd.split('-')\n",
    "                    for s in nosub:\n",
    "                        for ext in extras:\n",
    "                            s = s.replace(ext, '')\n",
    "                        symbols.append(s)\n",
    "    return symbols\n",
    "\n",
    "with open(ssm_file, 'r') as o:\n",
    "    for line in o:\n",
    "        x = line.split('=')[0].split('(')[0]\n",
    "        if x not in xs:\n",
    "            xs.append(x)\n",
    "        eqt = line.split('=')[1].strip()\n",
    "        symbols = get_symbols(eqt)\n",
    "        for s in symbols:\n",
    "            if theta_char in s and s not in thetas:\n",
    "                thetas.append(s)\n",
    "                \n",
    "        eqts.append((x, eqt))\n",
    "    \n",
    "thetas.sort(key=lambda x: int(x[1:]))   \n",
    "print(xs)\n",
    "print(thetas)"
   ]
  },
  {
   "cell_type": "markdown",
   "metadata": {},
   "source": [
    "### Find the derivatives\n",
    "The derivative list will by `i` by `j` in size, with `i` being the number of `x` variables and `j` being the number of `theta` variables"
   ]
  },
  {
   "cell_type": "code",
   "execution_count": 13,
   "metadata": {},
   "outputs": [
    {
     "name": "stdout",
     "output_type": "stream",
     "text": [
      "-k1*x1*x2+k2*x3-k34*x10*x1+k35*x8+k36*x22-k37*x1-k38*x1+k39*x16\n",
      "k1\n",
      "-x1*x2\n"
     ]
    }
   ],
   "source": [
    "derivatives = [['' for j in range(len(thetas))] for i in range(len(xs))]\n",
    "for i in range(len(xs)):\n",
    "    for j in range(len(thetas)):\n",
    "        derivatives[i][j] = sp.diff(eqts[i][1], thetas[j])\n",
    "print(eqts[0][1])\n",
    "print(thetas[0])\n",
    "print(derivatives[0][0])"
   ]
  },
  {
   "cell_type": "markdown",
   "metadata": {},
   "source": [
    "### Calculate s̅"
   ]
  },
  {
   "cell_type": "code",
   "execution_count": 14,
   "metadata": {},
   "outputs": [
    {
     "name": "stdout",
     "output_type": "stream",
     "text": [
      "-x1*x2\n",
      "-k1*x2\n"
     ]
    }
   ],
   "source": [
    "s_bar = [['' for j in range(len(thetas))] for i in range(len(xs))]\n",
    "for i in range(len(xs)):\n",
    "    for j in range(len(thetas)):\n",
    "        s_bar[i][j] = sp.Mul((sp.Mul(sp.sympify(derivatives[i][j]) * sp.sympify(thetas[j]))), sp.sympify('{}**-1'.format(xs[i])))\n",
    "        \n",
    "print(derivatives[0][0])\n",
    "print(s_bar[0][0])"
   ]
  },
  {
   "cell_type": "code",
   "execution_count": 15,
   "metadata": {},
   "outputs": [
    {
     "name": "stdout",
     "output_type": "stream",
     "text": [
      "x7 = +k5*x6*x2-k6*x7-k18*x7-k58*x10*x7+k59*x14+k60*x21\n",
      "-x7\n",
      "-k6\n"
     ]
    }
   ],
   "source": [
    "print(eqts[6][0] + ' = ' + eqts[6][1])\n",
    "print(derivatives[6][5])\n",
    "print(s_bar[6][5])"
   ]
  },
  {
   "cell_type": "markdown",
   "metadata": {},
   "source": [
    "## Dump to a file"
   ]
  },
  {
   "cell_type": "code",
   "execution_count": 17,
   "metadata": {},
   "outputs": [],
   "source": [
    "import pickle\n",
    "\n",
    "pickle_file = '/Users/zacharymcgrath/Documents/School/Spring 2020/Dynamic Systems in Biology/dynamic_models_in_bio_final_project/sensitivity_matrix'\n",
    "pickle.dump(s_bar, open(pickle_file, 'wb'))"
   ]
  },
  {
   "cell_type": "code",
   "execution_count": null,
   "metadata": {},
   "outputs": [],
   "source": []
  }
 ],
 "metadata": {
  "kernelspec": {
   "display_name": "Python 3",
   "language": "python",
   "name": "python3"
  },
  "language_info": {
   "codemirror_mode": {
    "name": "ipython",
    "version": 3
   },
   "file_extension": ".py",
   "mimetype": "text/x-python",
   "name": "python",
   "nbconvert_exporter": "python",
   "pygments_lexer": "ipython3",
   "version": "3.7.4"
  }
 },
 "nbformat": 4,
 "nbformat_minor": 4
}
