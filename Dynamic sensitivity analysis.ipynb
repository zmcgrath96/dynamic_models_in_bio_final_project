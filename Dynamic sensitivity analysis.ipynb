{
 "cells": [
  {
   "cell_type": "markdown",
   "metadata": {},
   "source": [
    "# Dynamic sensitivity analysis\n",
    "ok so we have these components\n",
    "* initial conditions (in `initial_conditions.txt`)\n",
    "* x<sub>i</sub>(t) for all i in [1, 24] (in `x(t).csv`)\n",
    "* sensitivity matrix (sbar) as a function of k<sub>j</sub> and x<sub>i</sub> (in `sensitivity_matrix` pickle file)\n",
    "* k<sub>j</sub> for all j [1, 64] (in `reaction_coefficients.txt`)\n",
    "\n",
    "Using these components, we can calculate equations (21) and (22)\n",
    "\n",
    "### load all these bad bois"
   ]
  },
  {
   "cell_type": "code",
   "execution_count": 16,
   "metadata": {},
   "outputs": [],
   "source": [
    "# get x(t) for all t\n",
    "xt = {'x{}'.format(i+1): [] for i in range(24)}\n",
    "with open('./x(t).csv', 'r') as o:\n",
    "    header = False\n",
    "    for line in o:\n",
    "        if not header:\n",
    "            header = True\n",
    "            continue\n",
    "        vals = line.split(',')[1:]\n",
    "        numvals = [float(x) for x in vals]\n",
    "        for i in range(len(numvals)):\n",
    "            xt['x{}'.format(i+1)].append(numvals[i])\n",
    "        \n",
    "N = len(xt['x1'])\n",
    "\n",
    "# get the sensitivity matrix\n",
    "import pickle\n",
    "sbar = pickle.load(open('./sensitivity_matrix', 'rb'))\n",
    "\n",
    "# get all of the ks\n",
    "ks = {}\n",
    "with open('./reaction_coefficients.txt', 'r') as o:\n",
    "    for line in o:\n",
    "        k = line.split('=')[0]\n",
    "        ks[k] = sp.sympify(line.split('=')[1].replace('\\n', '').strip()).evalf()"
   ]
  },
  {
   "cell_type": "markdown",
   "metadata": {},
   "source": [
    "## Dynamic sensitivity analysis with multiple variables\n",
    "This is equation 22 of the paper\n",
    "![Equation 22](./equation22.png)"
   ]
  },
  {
   "cell_type": "code",
   "execution_count": 24,
   "metadata": {},
   "outputs": [],
   "source": [
    "import sympy as sp\n",
    "#calc sbar \n",
    "def s_bar(i, j, k):\n",
    "    # get the row of xt for the k\n",
    "    xs = [(str(key), xt[key][k]) for key in xt.keys()]\n",
    "    # get the i j entry of sbar\n",
    "    s = sbar[i][j]\n",
    "    # substitute ks and xs and return\n",
    "    ss = sp.sympify(s)\n",
    "    \n",
    "    print(type(ss))\n",
    "    print(ss)\n",
    "    for key in ks:\n",
    "        print('subed {} in for {}'.format(ks[key], key))\n",
    "        ss.sub(key, str(ks[key]))\n",
    "    print(ss)\n",
    "    for x in xs:\n",
    "        ss.sub(x[0], x[1])\n",
    "    print(ss)\n",
    "    a = ss.evalf()\n",
    "    print(a)\n",
    "    return a"
   ]
  },
  {
   "cell_type": "code",
   "execution_count": 25,
   "metadata": {},
   "outputs": [
    {
     "name": "stdout",
     "output_type": "stream",
     "text": [
      "<class 'sympy.core.mul.Mul'>\n",
      "-k3*x4\n",
      "subed 0.500000000000000 in for k1\n"
     ]
    },
    {
     "ename": "AttributeError",
     "evalue": "'Mul' object has no attribute 'sub'",
     "output_type": "error",
     "traceback": [
      "\u001b[0;31m---------------------------------------------------------------------------\u001b[0m",
      "\u001b[0;31mAttributeError\u001b[0m                            Traceback (most recent call last)",
      "\u001b[0;32m<ipython-input-25-bcd244290564>\u001b[0m in \u001b[0;36m<module>\u001b[0;34m\u001b[0m\n\u001b[0;32m----> 1\u001b[0;31m \u001b[0ms_bar\u001b[0m\u001b[0;34m(\u001b[0m\u001b[0;36m1\u001b[0m\u001b[0;34m,\u001b[0m \u001b[0;36m2\u001b[0m\u001b[0;34m,\u001b[0m \u001b[0;36m3\u001b[0m\u001b[0;34m)\u001b[0m\u001b[0;34m\u001b[0m\u001b[0;34m\u001b[0m\u001b[0m\n\u001b[0m",
      "\u001b[0;32m<ipython-input-24-e98adf94586e>\u001b[0m in \u001b[0;36ms_bar\u001b[0;34m(i, j, k)\u001b[0m\n\u001b[1;32m     13\u001b[0m     \u001b[0;32mfor\u001b[0m \u001b[0mkey\u001b[0m \u001b[0;32min\u001b[0m \u001b[0mks\u001b[0m\u001b[0;34m:\u001b[0m\u001b[0;34m\u001b[0m\u001b[0;34m\u001b[0m\u001b[0m\n\u001b[1;32m     14\u001b[0m         \u001b[0mprint\u001b[0m\u001b[0;34m(\u001b[0m\u001b[0;34m'subed {} in for {}'\u001b[0m\u001b[0;34m.\u001b[0m\u001b[0mformat\u001b[0m\u001b[0;34m(\u001b[0m\u001b[0mks\u001b[0m\u001b[0;34m[\u001b[0m\u001b[0mkey\u001b[0m\u001b[0;34m]\u001b[0m\u001b[0;34m,\u001b[0m \u001b[0mkey\u001b[0m\u001b[0;34m)\u001b[0m\u001b[0;34m)\u001b[0m\u001b[0;34m\u001b[0m\u001b[0;34m\u001b[0m\u001b[0m\n\u001b[0;32m---> 15\u001b[0;31m         \u001b[0mss\u001b[0m\u001b[0;34m.\u001b[0m\u001b[0msub\u001b[0m\u001b[0;34m(\u001b[0m\u001b[0mkey\u001b[0m\u001b[0;34m,\u001b[0m \u001b[0mstr\u001b[0m\u001b[0;34m(\u001b[0m\u001b[0mks\u001b[0m\u001b[0;34m[\u001b[0m\u001b[0mkey\u001b[0m\u001b[0;34m]\u001b[0m\u001b[0;34m)\u001b[0m\u001b[0;34m)\u001b[0m\u001b[0;34m\u001b[0m\u001b[0;34m\u001b[0m\u001b[0m\n\u001b[0m\u001b[1;32m     16\u001b[0m     \u001b[0mprint\u001b[0m\u001b[0;34m(\u001b[0m\u001b[0mss\u001b[0m\u001b[0;34m)\u001b[0m\u001b[0;34m\u001b[0m\u001b[0;34m\u001b[0m\u001b[0m\n\u001b[1;32m     17\u001b[0m     \u001b[0;32mfor\u001b[0m \u001b[0mx\u001b[0m \u001b[0;32min\u001b[0m \u001b[0mxs\u001b[0m\u001b[0;34m:\u001b[0m\u001b[0;34m\u001b[0m\u001b[0;34m\u001b[0m\u001b[0m\n",
      "\u001b[0;31mAttributeError\u001b[0m: 'Mul' object has no attribute 'sub'"
     ]
    }
   ],
   "source": [
    "s_bar(1, 2, 3)"
   ]
  },
  {
   "cell_type": "code",
   "execution_count": null,
   "metadata": {},
   "outputs": [],
   "source": []
  }
 ],
 "metadata": {
  "kernelspec": {
   "display_name": "Python 3",
   "language": "python",
   "name": "python3"
  },
  "language_info": {
   "codemirror_mode": {
    "name": "ipython",
    "version": 3
   },
   "file_extension": ".py",
   "mimetype": "text/x-python",
   "name": "python",
   "nbconvert_exporter": "python",
   "pygments_lexer": "ipython3",
   "version": "3.7.4"
  }
 },
 "nbformat": 4,
 "nbformat_minor": 4
}
