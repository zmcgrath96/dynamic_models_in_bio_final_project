{
 "cells": [
  {
   "cell_type": "code",
   "execution_count": 193,
   "metadata": {},
   "outputs": [],
   "source": [
    "import numpy as np"
   ]
  },
  {
   "cell_type": "code",
   "execution_count": 194,
   "metadata": {},
   "outputs": [],
   "source": [
    "file = open(\"pathway_eqs.txt\",\"r\")\n",
    "eqs_arr=file.readlines()\n",
    "file.close()\n",
    "eqs_arr=[i[:-1] for i in eqs_arr if i[-1] == '\\n'] #remove \\n"
   ]
  },
  {
   "cell_type": "code",
   "execution_count": 195,
   "metadata": {},
   "outputs": [],
   "source": [
    "class Rxn:\n",
    "    \n",
    "    def __init__(self, ID, reactants, products):\n",
    "        #reactants and products are lists\n",
    "        self.ID = str(ID)\n",
    "        self.reactants = reactants\n",
    "        self.products = products\n",
    "        \n",
    "    def __str__(self):\n",
    "        ret = \"ID: \" + self.ID + \" Reactants: \"\n",
    "        for r in self.reactants:\n",
    "            ret = ret + r.ID + \", \"\n",
    "        ret = ret + \"Products: \"\n",
    "        for p in self.products:\n",
    "            ret = ret + p.ID + \", \"\n",
    "        return ret\n",
    "\n",
    "class RxnSpec:\n",
    "    \n",
    "    def __init__(self, ID, name):\n",
    "        self.ID = 'x' + str(ID)\n",
    "        self.name = name\n",
    "        \n",
    "    def __str__(self):\n",
    "        return 'ID: ' + self.ID + ' name: ' + self.name"
   ]
  },
  {
   "cell_type": "code",
   "execution_count": 196,
   "metadata": {},
   "outputs": [],
   "source": [
    "#list of rxn species\n",
    "rxn_species = [RxnSpec(1,'ikba'), RxnSpec(2,'nf-kb'), RxnSpec(3,'ikba-nf-kb'), RxnSpec(4,'ikbb'), RxnSpec(5,'ikbb-nf-kb'),\n",
    "              RxnSpec(6,'ikbe'),RxnSpec(7,'ikbe-nf-kb'),RxnSpec(8,'ikkikba'),RxnSpec(9,'ikkikba-nf-kb'),RxnSpec(10,'ikk'),\n",
    "              RxnSpec(11,'ikkikbb'),RxnSpec(12,'ikkikbb-nf-kb'),RxnSpec(13,'ikkikbe'),RxnSpec(14,'ikkikbe-nf-kb'),\n",
    "              RxnSpec(15,'nf-kb_n'),RxnSpec(16,'ikba_n'),RxnSpec(17,'ikba_n-nf-kb_n'),RxnSpec(18,'ikbb_n'),RxnSpec(19,'ikbb_n-nf-kb_n'),\n",
    "              RxnSpec(20,'ikbe_n'),RxnSpec(21,'ikbe_n-nf-kb_n'),RxnSpec(22,'ikba_-t'),RxnSpec(23,'ikbb_-t'),RxnSpec(24,'ikbe_-t')]"
   ]
  },
  {
   "cell_type": "code",
   "execution_count": 197,
   "metadata": {},
   "outputs": [],
   "source": [
    "rxn_arr = []\n",
    "\n",
    "for idx,eq in enumerate(eqs_arr):\n",
    "    temp = eq.split('->')\n",
    "    reactants = temp[0].split('+')\n",
    "    products = temp[1].split('+')\n",
    "    #convert each element in reactants and products into a RxnSpec\n",
    "    new_reactants = []\n",
    "    new_products = []\n",
    "    for reac in reactants:\n",
    "        for rs in rxn_species:\n",
    "            if rs.name == reac:\n",
    "                new_reactants.append(rs)\n",
    "                break\n",
    "    for prod in products:\n",
    "        for rs in rxn_species:\n",
    "            \n",
    "            if rs.name == prod:\n",
    "                new_products.append(rs)\n",
    "                break\n",
    "    \n",
    "    \n",
    "    rxn = Rxn(idx+1,new_reactants, new_products)\n",
    "    rxn_arr.append(rxn)\n"
   ]
  },
  {
   "cell_type": "code",
   "execution_count": 198,
   "metadata": {},
   "outputs": [],
   "source": [
    "state_space_model = []\n",
    "\n",
    "for rs in rxn_species:\n",
    "    eq = rs.ID + '(t) = '\n",
    "    for rxn in rxn_arr:\n",
    "        if rs.name in [i.name for i in rxn.reactants]:\n",
    "            k = '-k' + str(rxn.ID)\n",
    "            eq = eq + k\n",
    "            for reac in rxn.reactants:\n",
    "                eq = eq + '*' + reac.ID\n",
    "            \n",
    "        if rs.name in [i.name for i in rxn.products]:\n",
    "            k = '+k' + str(rxn.ID)\n",
    "            eq = eq + k\n",
    "            for reac in rxn.reactants:\n",
    "                eq = eq + '*' + reac.ID\n",
    "    state_space_model.append(eq)\n",
    "    \n",
    "\n",
    "#for s in state_space_model:\n",
    "#    print(s)"
   ]
  },
  {
   "cell_type": "code",
   "execution_count": 200,
   "metadata": {},
   "outputs": [],
   "source": [
    "out = open('state_space_derivation.txt','w')\n",
    "for s in state_space_model:\n",
    "    out.write(s)\n",
    "\n",
    "out.close()"
   ]
  },
  {
   "cell_type": "code",
   "execution_count": null,
   "metadata": {},
   "outputs": [],
   "source": []
  }
 ],
 "metadata": {
  "kernelspec": {
   "display_name": "Python 3",
   "language": "python",
   "name": "python3"
  },
  "language_info": {
   "codemirror_mode": {
    "name": "ipython",
    "version": 3
   },
   "file_extension": ".py",
   "mimetype": "text/x-python",
   "name": "python",
   "nbconvert_exporter": "python",
   "pygments_lexer": "ipython3",
   "version": "3.7.4"
  }
 },
 "nbformat": 4,
 "nbformat_minor": 2
}
