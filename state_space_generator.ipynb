{
 "cells": [
  {
   "cell_type": "code",
   "execution_count": 96,
   "metadata": {},
   "outputs": [],
   "source": [
    "import numpy as np"
   ]
  },
  {
   "cell_type": "code",
   "execution_count": 97,
   "metadata": {},
   "outputs": [],
   "source": [
    "file = open(\"wnt_pathway_eqs.txt\",\"r\")\n",
    "eqs_arr=file.readlines()\n",
    "file.close()\n",
    "eqs_arr=[i[:-1] if i[-1] == '\\n' else i for i in eqs_arr ] #remove \\n"
   ]
  },
  {
   "cell_type": "code",
   "execution_count": 98,
   "metadata": {},
   "outputs": [
    {
     "data": {
      "text/plain": [
       "['source->HOTAIR',\n",
       " 'HOTAIR->sink',\n",
       " 'HOTAIR+WIF-1->HOTAIR.WIF-1',\n",
       " 'WIF-1+Wnt->WIF-1.Wnt',\n",
       " 'LRP5/6+Fzl->LRP5/6.Fzl',\n",
       " 'Wnt+LRP5/6.Fzl->Wnt.LRP5/6.Fzl',\n",
       " 'LRP5/6+Axin->LRP5/6.Axin',\n",
       " 'Wnt.LRP5/6.Fzl+Dshi->Wnt.LRP5/6.Fzl+Dsha',\n",
       " 'Dsha->Dshi',\n",
       " 'APC.Axin.GSK3+Dsha->APC.Axin+GSK3+Dsha',\n",
       " 'APC.Axin+GSK3->APC.Axin.GSK3',\n",
       " 'APC.Axin.GSK3+source->APC*.Axin*.GSK3',\n",
       " 'APC+Axin->APC.Axin',\n",
       " 'B-catenin+APC*.Axin*.GSK3->B-catenin.APC*.Axin*.GSK3',\n",
       " 'B-catenin.APC*.Axin*.GSK3+source->B-catenin*.APC*.Axin*.GSK3',\n",
       " 'B-catenin*.APC*.Axin*.GSK3->B-catenin*+APC*.Axin*.GSK3',\n",
       " 'B-catenin*->sink',\n",
       " 'source->Axin',\n",
       " 'Axin->sink',\n",
       " 'APC+B-catenin->APC.B-catenin',\n",
       " 'source->B-catenin',\n",
       " 'B-catenin->sink',\n",
       " 'TCF+B-catenin->TCF.B-catenin',\n",
       " 'TCF.B-catenin+source->Axin',\n",
       " 'source->MMP-13',\n",
       " 'MMP-13->sink',\n",
       " 'TCF.B-catenin+source->MMP-13']"
      ]
     },
     "execution_count": 98,
     "metadata": {},
     "output_type": "execute_result"
    }
   ],
   "source": [
    "eqs_arr"
   ]
  },
  {
   "cell_type": "code",
   "execution_count": 99,
   "metadata": {},
   "outputs": [],
   "source": [
    "class Rxn:\n",
    "    \n",
    "    def __init__(self, ID, reactants, products):\n",
    "        #reactants and products are lists\n",
    "        self.ID = str(ID)\n",
    "        self.reactants = reactants\n",
    "        self.products = products\n",
    "        \n",
    "    def __str__(self):\n",
    "        ret = \"ID: \" + self.ID + \" Reactants: \"\n",
    "        for r in self.reactants:\n",
    "            #ret = ret + r.ID + \", \"\n",
    "            ret = ret + r.name + \", \"\n",
    "        ret = ret + \"Products: \"\n",
    "        for p in self.products:\n",
    "            #ret = ret + p.ID + \", \"\n",
    "            ret = ret + p.name + \", \"\n",
    "        return ret\n",
    "\n",
    "class RxnSpec:\n",
    "    \n",
    "    def __init__(self, ID, name):\n",
    "        self.ID = 'x' + str(ID)\n",
    "        self.name = name\n",
    "        \n",
    "    def __str__(self):\n",
    "        return 'ID: ' + self.ID + ' name: ' + self.name"
   ]
  },
  {
   "cell_type": "code",
   "execution_count": 100,
   "metadata": {},
   "outputs": [],
   "source": [
    "#list of rxn species\n",
    "# rxn_species = [RxnSpec(1,'ikba'), RxnSpec(2,'nf-kb'), RxnSpec(3,'ikba-nf-kb'), RxnSpec(4,'ikbb'), RxnSpec(5,'ikbb-nf-kb'),\n",
    "#               RxnSpec(6,'ikbe'),RxnSpec(7,'ikbe-nf-kb'),RxnSpec(8,'ikkikba'),RxnSpec(9,'ikkikba-nf-kb'),RxnSpec(10,'ikk'),\n",
    "#               RxnSpec(11,'ikkikbb'),RxnSpec(12,'ikkikbb-nf-kb'),RxnSpec(13,'ikkikbe'),RxnSpec(14,'ikkikbe-nf-kb'),\n",
    "#               RxnSpec(15,'nf-kb_n'),RxnSpec(16,'ikba_n'),RxnSpec(17,'ikba_n-nf-kb_n'),RxnSpec(18,'ikbb_n'),RxnSpec(19,'ikbb_n-nf-kb_n'),\n",
    "#               RxnSpec(20,'ikbe_n'),RxnSpec(21,'ikbe_n-nf-kb_n'),RxnSpec(22,'ikba_-t'),RxnSpec(23,'ikbb_-t'),RxnSpec(24,'ikbe_-t'),\n",
    "#                RxnSpec('SOURCE','source'),RxnSpec('SINK','sink')]"
   ]
  },
  {
   "cell_type": "code",
   "execution_count": 101,
   "metadata": {},
   "outputs": [],
   "source": [
    "rxn_species = [RxnSpec(1,'HOTAIR'), RxnSpec(2,'WIF-1'),RxnSpec(3,'HOTAIR.WIF-1'),RxnSpec(4,'Wnt'),RxnSpec(5,'WIF-1.Wnt'),\n",
    "                  RxnSpec(6,'LRP5/6'),RxnSpec(7,'Fzl'),RxnSpec(8,'LRP5/6.Fzl'),RxnSpec(9,'Wnt.LRP5/6.Fzl'),RxnSpec(10,'Axin'),\n",
    "                  RxnSpec(11,'LRP5/6.Axin'),RxnSpec(12,'Dshi'),RxnSpec(13,'Dsha'),RxnSpec(14,'APC.Axin'),RxnSpec(15,'GSK3'),\n",
    "                  RxnSpec(16,'APC*.Axin*.GSK3'),RxnSpec(17,'B-catenin'),RxnSpec(18,'B-catenin*.APC*.Axin*.GSK3'),\n",
    "                   RxnSpec(19,'B-catenin*'),RxnSpec(20,'APC'),RxnSpec(21,'APC.B-catenin'),RxnSpec(22,'TCF'),RxnSpec(23,'TCF.B-catenin'),\n",
    "                   RxnSpec(24,'MMP-13'),RxnSpec(25,'APC.Axin.GSK3'),RxnSpec(26,'B-catenin.APC*.Axin*.GSK3'),\n",
    "               RxnSpec('SOURCE','source'),RxnSpec('SINK','sink'),]"
   ]
  },
  {
   "cell_type": "code",
   "execution_count": 102,
   "metadata": {},
   "outputs": [],
   "source": [
    "rxn_arr = []\n",
    "\n",
    "for idx,eq in enumerate(eqs_arr):\n",
    "    temp = eq.split('->')\n",
    "    #print(temp)\n",
    "    reactants = temp[0].split('+')\n",
    "    products = temp[1].split('+')\n",
    "    #print(reactants)\n",
    "    #convert each element in reactants and products into a RxnSpec\n",
    "    new_reactants = []\n",
    "    new_products = []\n",
    "    for reac in reactants:\n",
    "        for rs in rxn_species:\n",
    "            if rs.name == reac:\n",
    "                new_reactants.append(rs)\n",
    "                break\n",
    "    for prod in products:\n",
    "        for rs in rxn_species:\n",
    "            \n",
    "            if rs.name == prod:\n",
    "                new_products.append(rs)\n",
    "                break\n",
    "    \n",
    "    \n",
    "    rxn = Rxn(idx+1,new_reactants, new_products)\n",
    "    rxn_arr.append(rxn)\n"
   ]
  },
  {
   "cell_type": "code",
   "execution_count": 103,
   "metadata": {},
   "outputs": [
    {
     "name": "stdout",
     "output_type": "stream",
     "text": [
      "ID: 1 Reactants: source, Products: HOTAIR, \n",
      "ID: 2 Reactants: HOTAIR, Products: sink, \n",
      "ID: 3 Reactants: HOTAIR, WIF-1, Products: HOTAIR.WIF-1, \n",
      "ID: 4 Reactants: WIF-1, Wnt, Products: WIF-1.Wnt, \n",
      "ID: 5 Reactants: LRP5/6, Fzl, Products: LRP5/6.Fzl, \n",
      "ID: 6 Reactants: Wnt, LRP5/6.Fzl, Products: Wnt.LRP5/6.Fzl, \n",
      "ID: 7 Reactants: LRP5/6, Axin, Products: LRP5/6.Axin, \n",
      "ID: 8 Reactants: Wnt.LRP5/6.Fzl, Dshi, Products: Wnt.LRP5/6.Fzl, Dsha, \n",
      "ID: 9 Reactants: Dsha, Products: Dshi, \n",
      "ID: 10 Reactants: APC.Axin.GSK3, Dsha, Products: APC.Axin, GSK3, Dsha, \n",
      "ID: 11 Reactants: APC.Axin, GSK3, Products: APC.Axin.GSK3, \n",
      "ID: 12 Reactants: APC.Axin.GSK3, source, Products: APC*.Axin*.GSK3, \n",
      "ID: 13 Reactants: APC, Axin, Products: APC.Axin, \n",
      "ID: 14 Reactants: B-catenin, APC*.Axin*.GSK3, Products: B-catenin.APC*.Axin*.GSK3, \n",
      "ID: 15 Reactants: B-catenin.APC*.Axin*.GSK3, source, Products: B-catenin*.APC*.Axin*.GSK3, \n",
      "ID: 16 Reactants: B-catenin*.APC*.Axin*.GSK3, Products: B-catenin*, APC*.Axin*.GSK3, \n",
      "ID: 17 Reactants: B-catenin*, Products: sink, \n",
      "ID: 18 Reactants: source, Products: Axin, \n",
      "ID: 19 Reactants: Axin, Products: sink, \n",
      "ID: 20 Reactants: APC, B-catenin, Products: APC.B-catenin, \n",
      "ID: 21 Reactants: source, Products: B-catenin, \n",
      "ID: 22 Reactants: B-catenin, Products: sink, \n",
      "ID: 23 Reactants: TCF, B-catenin, Products: TCF.B-catenin, \n",
      "ID: 24 Reactants: TCF.B-catenin, source, Products: Axin, \n",
      "ID: 25 Reactants: source, Products: MMP-13, \n",
      "ID: 26 Reactants: MMP-13, Products: sink, \n",
      "ID: 27 Reactants: TCF.B-catenin, source, Products: MMP-13, \n"
     ]
    }
   ],
   "source": [
    "for rxn in rxn_arr:\n",
    "    print(rxn)"
   ]
  },
  {
   "cell_type": "code",
   "execution_count": 104,
   "metadata": {},
   "outputs": [],
   "source": [
    "state_space_model = []\n",
    "\n",
    "for rs in rxn_species:\n",
    "    eq = rs.ID + '(t) = '\n",
    "    for rxn in rxn_arr:\n",
    "        if rs.name in [i.name for i in rxn.reactants]:\n",
    "            k = '-k' + str(rxn.ID)\n",
    "            eq = eq + k\n",
    "            for reac in rxn.reactants:\n",
    "                eq = eq + '*' + reac.ID\n",
    "            \n",
    "        if rs.name in [i.name for i in rxn.products]:\n",
    "            k = '+k' + str(rxn.ID)\n",
    "            eq = eq + k\n",
    "            for reac in rxn.reactants:\n",
    "                eq = eq + '*' + reac.ID\n",
    "    state_space_model.append(eq)\n",
    "    \n",
    "\n",
    "#for s in state_space_model:\n",
    "#    print(s)"
   ]
  },
  {
   "cell_type": "code",
   "execution_count": 105,
   "metadata": {},
   "outputs": [],
   "source": [
    "out = open('WNT_state_space_derivation.txt','w')\n",
    "for s in state_space_model:\n",
    "    out.write(s + '\\n')\n",
    "\n",
    "out.close()"
   ]
  },
  {
   "cell_type": "code",
   "execution_count": null,
   "metadata": {},
   "outputs": [],
   "source": []
  }
 ],
 "metadata": {
  "kernelspec": {
   "display_name": "Python 3",
   "language": "python",
   "name": "python3"
  },
  "language_info": {
   "codemirror_mode": {
    "name": "ipython",
    "version": 3
   },
   "file_extension": ".py",
   "mimetype": "text/x-python",
   "name": "python",
   "nbconvert_exporter": "python",
   "pygments_lexer": "ipython3",
   "version": "3.6.5"
  }
 },
 "nbformat": 4,
 "nbformat_minor": 2
}
