{
 "cells": [
  {
   "cell_type": "markdown",
   "metadata": {},
   "source": [
    "Correlation analysis"
   ]
  },
  {
   "cell_type": "code",
   "execution_count": 523,
   "metadata": {},
   "outputs": [],
   "source": [
    "import random\n",
    "import numpy as np\n",
    "import math"
   ]
  },
  {
   "cell_type": "code",
   "execution_count": 558,
   "metadata": {},
   "outputs": [],
   "source": [
    "n = 3 #num x\n",
    "m = 4 #num theta\n",
    "N = 5 #num time steps\n",
    "reaction_coefficients_file = 'reaction_coefficients.txt'\n",
    "ks = {}\n",
    "with open(reaction_coefficients_file, 'r') as o: \n",
    "    for l in o:\n",
    "        k = l.split('=')[0]\n",
    "        ks[k] = float(eval(l.split('=')[1].replace('\\n', '').strip()))"
   ]
  },
  {
   "cell_type": "code",
   "execution_count": 559,
   "metadata": {},
   "outputs": [],
   "source": [
    "solveddxdtheta = [[[random.randint(1,5) for i in range(n)] for k in range(N)] for j in range(m)]\n",
    "x = [[random.randint(1,5) for k in range(N)] for i in range(n)]"
   ]
  },
  {
   "cell_type": "code",
   "execution_count": 560,
   "metadata": {},
   "outputs": [],
   "source": [
    "def sbar(i, j, k):\n",
    "    return solveddxdtheta[j][k][i] * ks['k{}'.format(j+1)] / x[i][k]"
   ]
  },
  {
   "cell_type": "code",
   "execution_count": 561,
   "metadata": {},
   "outputs": [],
   "source": [
    "S = []\n",
    "for j in range(m):\n",
    "    ls_theta = []\n",
    "    for k in range(N):\n",
    "        ls_k = []\n",
    "        for i in range(n):\n",
    "            ls_k.append(sbar(i,j,k))\n",
    "        ls_theta.append(ls_k)\n",
    "    S.append(ls_theta)\n",
    "    \n",
    "#for theta_mat in S:\n",
    "#    print(theta_mat)            "
   ]
  },
  {
   "cell_type": "code",
   "execution_count": 562,
   "metadata": {},
   "outputs": [
    {
     "data": {
      "text/plain": [
       "[[[2.0, 1.0, 0.5],\n",
       "  [0.5, 0.2, 0.125],\n",
       "  [0.3, 0.4, 2.5],\n",
       "  [1.25, 0.3, 0.3333333333333333],\n",
       "  [0.3, 0.375, 0.375]],\n",
       " [[0.0015, 0.00025, 0.0004],\n",
       "  [0.0006666666666666666, 0.0005, 0.00025],\n",
       "  [0.0002, 0.0004, 0.0015],\n",
       "  [0.00025, 0.0004, 0.0005],\n",
       "  [0.0005, 0.000375, 0.0005]],\n",
       " [[0.5, 0.5, 0.3],\n",
       "  [0.5, 0.3, 0.5],\n",
       "  [0.2, 0.5, 1.0],\n",
       "  [0.75, 0.1, 0.5],\n",
       "  [0.3, 0.25, 0.125]],\n",
       " [[0.002, 0.00025, 0.00030000000000000003],\n",
       "  [0.0005, 0.0002, 0.000625],\n",
       "  [0.0002, 0.0001, 0.001],\n",
       "  [0.00125, 0.0001, 0.00016666666666666666],\n",
       "  [0.0005, 0.000625, 0.000625]]]"
      ]
     },
     "execution_count": 562,
     "metadata": {},
     "output_type": "execute_result"
    }
   ],
   "source": [
    "S"
   ]
  },
  {
   "cell_type": "code",
   "execution_count": 563,
   "metadata": {},
   "outputs": [
    {
     "data": {
      "text/plain": [
       "[[3.5, 0.825, 3.2, 1.8833333333333333, 1.05],\n",
       " [0.00215, 0.0014166666666666666, 0.0021000000000000003, 0.00115, 0.001375],\n",
       " [1.3, 1.3, 1.7, 1.35, 0.675],\n",
       " [0.00255, 0.001325, 0.0013, 0.0015166666666666668, 0.0017500000000000003]]"
      ]
     },
     "execution_count": 563,
     "metadata": {},
     "output_type": "execute_result"
    }
   ],
   "source": [
    "#for each theta_mat in S\n",
    "#for each time step k\n",
    "#add all the sbar vals together\n",
    "\n",
    "theta_summ = []\n",
    "for theta_mat in S:\n",
    "    theta_vector = []\n",
    "    for timestep in theta_mat:\n",
    "        theta_vector.append(sum(timestep))\n",
    "    theta_summ.append(theta_vector)\n",
    "\n",
    "theta_summ"
   ]
  },
  {
   "cell_type": "code",
   "execution_count": 566,
   "metadata": {},
   "outputs": [
    {
     "data": {
      "text/plain": [
       "array([[1., 1.],\n",
       "       [1., 1.]])"
      ]
     },
     "execution_count": 566,
     "metadata": {},
     "output_type": "execute_result"
    }
   ],
   "source": [
    "x = theta_summ[0]\n",
    "y = theta_summ[0]\n",
    "np.corrcoef(x,y)"
   ]
  },
  {
   "cell_type": "code",
   "execution_count": 573,
   "metadata": {},
   "outputs": [
    {
     "name": "stdout",
     "output_type": "stream",
     "text": [
      "[1.0, 0.8494852931132884, 0.601108877944958, 0.4842883469482159]\n",
      "[0.8494852931132882, 1.0, 0.4815421014873943, 0.43663118582591326]\n",
      "[0.601108877944958, 0.4815421014873943, 1.0, -0.2660634181980259]\n",
      "[0.484288346948216, 0.43663118582591326, -0.2660634181980259, 1.0]\n"
     ]
    }
   ],
   "source": [
    "#correlation matrix\n",
    "Mc = [[0 for j in range(m)] for j in range(m)]\n",
    "for j1 in range(m):\n",
    "    for j2 in range(m):\n",
    "        Mc[j1][j2] = np.corrcoef(theta_summ[j1],theta_summ[j2])[0][1]\n",
    "for row in Mc:\n",
    "    print(row)"
   ]
  },
  {
   "cell_type": "code",
   "execution_count": 547,
   "metadata": {},
   "outputs": [
    {
     "data": {
      "text/plain": [
       "array([[1., 1.],\n",
       "       [1., 1.]])"
      ]
     },
     "execution_count": 547,
     "metadata": {},
     "output_type": "execute_result"
    }
   ],
   "source": [
    "np.corrcoef(S[1][1],S[2][0])"
   ]
  },
  {
   "cell_type": "markdown",
   "metadata": {},
   "source": [
    "Identifiability Analysis"
   ]
  },
  {
   "cell_type": "code",
   "execution_count": 476,
   "metadata": {},
   "outputs": [],
   "source": [
    "#calculate magnitude of each column of a 3d array by the Euclidean norm\n",
    "#param A: 3d array\n",
    "#param N: length of A[0] (num time steps)\n",
    "#param n: length of A[0][0] (num rxn species)\n",
    "def magnitude(A,N,n):\n",
    "    magnitudes = []\n",
    "    for mat in A:\n",
    "        summ = 0\n",
    "        for k in range(N):\n",
    "            for i in range(n):\n",
    "                summ += abs(mat[k][i])**2 #why do you need abs if you're squaring it i donut know\n",
    "\n",
    "        magn = (1/N) * np.sqrt(summ)\n",
    "        magnitudes.append(magn)\n",
    "\n",
    "    return magnitudes"
   ]
  },
  {
   "cell_type": "code",
   "execution_count": 477,
   "metadata": {},
   "outputs": [
    {
     "data": {
      "text/plain": [
       "array([[0.25      , 0.33333333],\n",
       "       [0.33333333, 1.25      ],\n",
       "       [0.33333333, 0.25      ],\n",
       "       [0.125     , 1.5       ],\n",
       "       [0.375     , 0.625     ]])"
      ]
     },
     "execution_count": 477,
     "metadata": {},
     "output_type": "execute_result"
    }
   ],
   "source": [
    "ident_order = []\n",
    "#1. \n",
    "#Calculate the magnitude of each column of S by the Euclidean norm \n",
    "S_magnitudes = magnitude(S,N,n)\n",
    "#The parameter corresponding to the column with maximum magnitude is the first identifiable parameter\n",
    "#this column is marked as XL (L=1)\n",
    "XL_idx = S_magnitudes.index(max(S_magnitudes))\n",
    "XL = np.array(S[XL_idx])\n",
    "#print('First identifiable parameter: k{}'.format(XL_idx+1))\n",
    "ident_order.append('k{}'.format(XL_idx+1))\n",
    "XL"
   ]
  },
  {
   "cell_type": "markdown",
   "metadata": {},
   "source": [
    "![ResidualMat](./residual_mat_formula.png)"
   ]
  },
  {
   "cell_type": "code",
   "execution_count": 478,
   "metadata": {},
   "outputs": [
    {
     "name": "stdout",
     "output_type": "stream",
     "text": [
      "[1.1505179923744555e-16, 0.00017358600953634512, 0.11795322210454906]\n",
      "[[0.25, 0.3333333333333333], [0.3333333333333333, 1.25], [0.3333333333333333, 0.25], [0.125, 1.5], [0.375, 0.625]]\n",
      "---------\n",
      "[[0.25, 0.3333333333333333], [0.3333333333333333, 1.25], [0.3333333333333333, 0.25], [0.125, 1.5], [0.375, 0.625]]\n",
      "[[0.5, 0.5], [0.8333333333333334, 0.25], [0.8333333333333334, 0.75], [0.125, 0.5], [0.5, 0.625]]\n",
      "---------\n"
     ]
    }
   ],
   "source": [
    "#2.\n",
    "#formulate the residual matrix\n",
    "I = np.identity(N) #identity matrix\n",
    "XLT = np.transpose(XL)\n",
    "RL = np.linalg.inv(np.matmul(XLT,XL))\n",
    "RL = np.matmul(np.matmul(XL, RL), XLT)\n",
    "RL = np.subtract(I,RL)\n",
    "RL = np.matmul(RL,S)\n",
    "XLplusone = [XL.tolist()]\n",
    "#3.\n",
    "#Calculate the magnitude of each column of RL. \n",
    "RL_magnitudes = magnitude(RL,N,n)\n",
    "print(RL_magnitudes)\n",
    "while len(RL_magnitudes)>1: #greater than 1 bc most identifiable param should have residual = 0 (I think?)\n",
    "    for col in XLplusone:\n",
    "        print(col)\n",
    "    print('---------')\n",
    "    #The column with the largest magnitude corresponds to the next identifiable parameter because it has the largest\n",
    "    #effect on the response variables of all the remaining parameters, which is not correlated with the effects \n",
    "    #of the selected set of parameters. \n",
    "    nextID_idx = RL_magnitudes.index(max(RL_magnitudes))\n",
    "    nextID = np.array(RL[nextID_idx])\n",
    "    #Augment XL with the column of S corresponding to this parameter. The augmented matrix is denoted as XL+1\n",
    "    XLplusone.append(S[nextID_idx])\n",
    "    #remove max of RL_magnitudes so next iteration we get the next biggest\n",
    "    RL_magnitudes = np.delete(RL_magnitudes,nextID_idx).tolist()\n",
    "    #add to list of params ordered in identifiability\n",
    "    ident_order.append('k{}'.format(nextID_idx+1))\n",
    "    #Increase the iteration counter by 1 and repeat steps 2-4 for all parameters or until\n",
    "    #the maximum magnitude of the columns of RL is less than a pre-specified threshold. "
   ]
  },
  {
   "cell_type": "code",
   "execution_count": 479,
   "metadata": {},
   "outputs": [
    {
     "data": {
      "text/plain": [
       "['k1', 'k3', 'k2']"
      ]
     },
     "execution_count": 479,
     "metadata": {},
     "output_type": "execute_result"
    }
   ],
   "source": [
    "ident_order"
   ]
  },
  {
   "cell_type": "code",
   "execution_count": null,
   "metadata": {},
   "outputs": [],
   "source": []
  }
 ],
 "metadata": {
  "kernelspec": {
   "display_name": "Python 3",
   "language": "python",
   "name": "python3"
  },
  "language_info": {
   "codemirror_mode": {
    "name": "ipython",
    "version": 3
   },
   "file_extension": ".py",
   "mimetype": "text/x-python",
   "name": "python",
   "nbconvert_exporter": "python",
   "pygments_lexer": "ipython3",
   "version": "3.6.5"
  }
 },
 "nbformat": 4,
 "nbformat_minor": 2
}
