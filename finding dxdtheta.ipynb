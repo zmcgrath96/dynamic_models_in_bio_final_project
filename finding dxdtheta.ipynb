{
 "cells": [
  {
   "cell_type": "markdown",
   "metadata": {},
   "source": [
    "# Finding dx with respect to theta\n",
    "Here are the equations\n",
    "\n",
    "![dx dtheat](dxdtheta.png)\n",
    "\n",
    "Once we can get equation 9, we can integrate with respect to time to get dx dtheta.\n",
    "\n",
    "s i j is defined as \n",
    "\n",
    "![s](littleS.png)\n",
    "\n",
    "I think f are the system of equations from the state space model"
   ]
  },
  {
   "cell_type": "code",
   "execution_count": 11,
   "metadata": {},
   "outputs": [],
   "source": [
    "import sympy as sp\n",
    "# here is the state space model\n",
    "\n",
    "ssm = []\n",
    "ssm.append(sp.sympify('-k1*x1*x2+k2*x3-k34*x10*x1+k35*x8+k36*x22-k37*x1-k38*x1+k39*x16'))\n",
    "ssm.append(sp.sympify('-k1*x1*x2+k2*x3-k3*x4*x2+k4*x5-k5*x6*x2+k6*x7-k7*x8*x2+k8*x9+k9*x9-k10*x11*x2+k11*x12+k12*x12-k13*x13*x2+k14*x14+k15*x14+k16*x3+k17*x5+k18*x7-k19*x2+k20*x15'))\n",
    "ssm.append(sp.sympify('+k1*x1*x2-k2*x3-k16*x3-k52*x10*x3+k53*x9+k54*x17'))\n",
    "ssm.append(sp.sympify('-k3*x4*x2+k4*x5-k40*x10*x4+k41*x11+k42*x23-k43*x4-k44*x4+k45*x18'))\n",
    "ssm.append(sp.sympify('+k3*x4*x2-k4*x5-k17*x5-k55*x10*x5+k56*x12+k57*x19'))\n",
    "ssm.append(sp.sympify('-k5*x6*x2+k6*x7-k46*x10*x6+k47*x13+k48*x24-k49*x6-k50*x6+k51*x20'))\n",
    "ssm.append(sp.sympify('+k5*x6*x2-k6*x7-k18*x7-k58*x10*x7+k59*x14+k60*x21'))\n",
    "ssm.append(sp.sympify('-k7*x8*x2+k8*x9+k34*x10*x1-k35*x8-k62*x8'))\n",
    "ssm.append(sp.sympify('+k7*x8*x2-k8*x9-k9*x9+k52*x10*x3-k53*x9'))\n",
    "ssm.append(sp.sympify('+k9*x9+k12*x12+k15*x14-k34*x10*x1+k35*x8-k40*x10*x4+k41*x11-k46*x10*x6+k47*x13-k52*x10*x3+k53*x9-k55*x10*x5+k56*x12-k58*x10*x7+k59*x14-k61*x10+k62*x8+k63*x11+k64*x13'))\n",
    "ssm.append(sp.sympify('-k10*x11*x2+k11*x12+k40*x10*x4-k41*x11-k63*x11'))\n",
    "ssm.append(sp.sympify('+k10*x11*x2-k11*x12-k12*x12+k55*x10*x5-k56*x12'))\n",
    "ssm.append(sp.sympify('-k13*x13*x2+k14*x14+k46*x10*x6-k47*x13-k64*x13'))\n",
    "ssm.append(sp.sympify('+k13*x13*x2-k14*x14-k15*x14+k58*x10*x7-k59*x14'))\n",
    "ssm.append(sp.sympify('+k19*x2-k20*x15-k21*x16*x15+k22*x17-k23*x18*x15+k24*x19-k25*x20*x15+k26*x21-k28*x15*x15+k28*x15*x15'))\n",
    "ssm.append(sp.sympify('-k21*x16*x15+k22*x17+k38*x1-k39*x16'))\n",
    "ssm.append(sp.sympify('+k21*x16*x15-k22*x17-k54*x17'))\n",
    "ssm.append(sp.sympify('-k23*x18*x15+k24*x19+k44*x4-k45*x18'))\n",
    "ssm.append(sp.sympify('+k23*x18*x15-k24*x19-k57*x19'))\n",
    "ssm.append(sp.sympify('-k25*x20*x15+k26*x21+k50*x6-k51*x20'))\n",
    "ssm.append(sp.sympify('+k25*x20*x15-k26*x21-k60*x21'))\n",
    "ssm.append(sp.sympify('+k27+k28*x15*x15-k29*x22-k36*x22+k36*x22'))\n",
    "ssm.append(sp.sympify('+k30-k31*x23-k42*x23+k42*x23'))\n",
    "ssm.append(sp.sympify('+k32-k33*x24-k48*x24+k48*x24'))\n"
   ]
  },
  {
   "cell_type": "code",
   "execution_count": 12,
   "metadata": {},
   "outputs": [],
   "source": [
    "# here are the x0 values\n",
    "x0 = [eval('5.97521108e-01'), eval('1.30181698e-04'), eval('9.67877617e-02'), eval('1.00437832e-03'),\n",
    " eval('7.87277938e-05'), eval('7.16607007e-04'), eval('5.61709540e-05'), 0,\n",
    " 0, 0, 0, 0,\n",
    " 0, 0, eval('7.65494124e-04'), eval('4.90100028e-02'),\n",
    " eval('2.16974463e-03'), eval('4.02420143e-05'), eval('6.95607467e-06'), eval('2.87119990e-05'),\n",
    " eval('4.96304204e-06'), eval('1.17054807e-01'), eval('2.72486833e-04'), eval('1.94414763e-04')]"
   ]
  },
  {
   "cell_type": "code",
   "execution_count": 13,
   "metadata": {},
   "outputs": [],
   "source": [
    "# here are the theta values\n",
    "ks = {}\n",
    "with open('reaction_coefficients.txt', 'r') as o: \n",
    "    for l in o:\n",
    "        k = l.split('=')[0]\n",
    "        ks[k] = float(eval(l.split('=')[1].replace('\\n', '').strip()))"
   ]
  },
  {
   "cell_type": "code",
   "execution_count": 14,
   "metadata": {},
   "outputs": [],
   "source": [
    "# get Sj\n",
    "def kdf(i, j):\n",
    "    if i != j:\n",
    "        return 0\n",
    "    return ks['k{}'.format(j+1)] - x0[i]\n",
    "\n",
    "def sj(j):\n",
    "    return [kdf(i, j) for i in range(len(x0))]"
   ]
  },
  {
   "cell_type": "code",
   "execution_count": 15,
   "metadata": {},
   "outputs": [
    {
     "name": "stdout",
     "output_type": "stream",
     "text": [
      "[x3, x3, -x3, 0, 0, 0, 0, 0, 0, 0, 0, 0, 0, 0, 0, 0, 0, 0, 0, 0, 0, 0, 0, 0]\n"
     ]
    }
   ],
   "source": [
    "# get Fj (df/dthetaj)\n",
    "def fj(j):\n",
    "    return [sp.diff(ssm[i], 'k{}'.format(j+1)) for i in range(len(x0))]"
   ]
  },
  {
   "cell_type": "code",
   "execution_count": 19,
   "metadata": {},
   "outputs": [
    {
     "name": "stdout",
     "output_type": "stream",
     "text": [
      "24\n"
     ]
    }
   ],
   "source": [
    "# find J\n",
    "def makeJ():\n",
    "    J = []\n",
    "    # df1 is top row where as dx1 is the first column\n",
    "    # is dfn/dfn\n",
    "    for i in range(len(ssm)):\n",
    "        row = []\n",
    "        tod = ssm[i]\n",
    "        for n in range(len(ssm)):\n",
    "            respectto = 'x{}'.format(n+1)\n",
    "            row.append(sp.diff(tod, respectto))\n",
    "        J.append(row)\n",
    "    return J\n"
   ]
  },
  {
   "cell_type": "code",
   "execution_count": 30,
   "metadata": {},
   "outputs": [],
   "source": [
    "import numpy as np\n",
    "J = makeJ()\n",
    "def ddtdxdthetaj(j):\n",
    "    return np.add(np.dot(np.asarray(J), sj(j)), np.asarray(fj(j)))\n"
   ]
  },
  {
   "cell_type": "markdown",
   "metadata": {},
   "source": [
    "### cool\n",
    "Ok so at this point we have dx dthetea for all x and all theta. Now we need to solve this big ol system of equations for t"
   ]
  },
  {
   "cell_type": "code",
   "execution_count": 58,
   "metadata": {},
   "outputs": [],
   "source": [
    "import copy\n",
    "from scipy.integrate import odeint\n",
    "\n",
    "def integratethis(x, t, soe):\n",
    "    tosub = {}\n",
    "    tosolve = copy.deepcopy(soe)\n",
    "    for i in range(len(x)):\n",
    "        tosub['x{}'.format(i + 1)] = x[i]\n",
    "    for k in ks:\n",
    "        tosub[k] = ks[k]\n",
    "    for j in range(len(tosolve)):\n",
    "        tosolve[j] = float(tosolve[j].evalf(subs=tosub))\n",
    "\n",
    "    return list(tosolve)\n",
    "\n",
    "N = 400\n",
    "t = [i for i in range(N)]\n",
    "soe = ddtdxdthetaj(0)\n",
    "solveddxdtheta = odeint(integratethis, x0, t, args=(soe,))"
   ]
  },
  {
   "cell_type": "code",
   "execution_count": 60,
   "metadata": {},
   "outputs": [
    {
     "name": "stdout",
     "output_type": "stream",
     "text": [
      "24\n"
     ]
    }
   ],
   "source": [
    "print(len(solveddxdtheta[0]))"
   ]
  },
  {
   "cell_type": "code",
   "execution_count": null,
   "metadata": {},
   "outputs": [],
   "source": []
  }
 ],
 "metadata": {
  "kernelspec": {
   "display_name": "Python 3",
   "language": "python",
   "name": "python3"
  },
  "language_info": {
   "codemirror_mode": {
    "name": "ipython",
    "version": 3
   },
   "file_extension": ".py",
   "mimetype": "text/x-python",
   "name": "python",
   "nbconvert_exporter": "python",
   "pygments_lexer": "ipython3",
   "version": "3.7.4"
  }
 },
 "nbformat": 4,
 "nbformat_minor": 4
}
