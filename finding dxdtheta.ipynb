{
 "cells": [
  {
   "cell_type": "markdown",
   "metadata": {},
   "source": [
    "# Finding dx with respect to theta\n",
    "Here are the equations\n",
    "\n",
    "![dx dtheat](dxdtheta.png)\n",
    "\n",
    "Once we can get equation 9, we can integrate with respect to time to get dx dtheta.\n",
    "\n",
    "s i j is defined as \n",
    "\n",
    "![s](littleS.png)\n",
    "\n",
    "I think f are the system of equations from the state space model"
   ]
  },
  {
   "cell_type": "code",
   "execution_count": 4,
   "metadata": {},
   "outputs": [],
   "source": [
    "import sympy as sp\n",
    "# here is the state space model\n",
    "\n",
    "ssm = []\n",
    "ssm.append(sp.sympify('-k1*x1*x2+k2*x3-k34*x10*x1+k35*x8+k36*x22-k37*x1-k38*x1+k39*x16'))\n",
    "ssm.append(sp.sympify('-k1*x1*x2+k2*x3-k3*x4*x2+k4*x5-k5*x6*x2+k6*x7-k7*x8*x2+k8*x9+k9*x9-k10*x11*x2+k11*x12+k12*x12-k13*x13*x2+k14*x14+k15*x14+k16*x3+k17*x5+k18*x7-k19*x2+k20*x15'))\n",
    "ssm.append(sp.sympify('+k1*x1*x2-k2*x3-k16*x3-k52*x10*x3+k53*x9+k54*x17'))\n",
    "ssm.append(sp.sympify('-k3*x4*x2+k4*x5-k40*x10*x4+k41*x11+k42*x23-k43*x4-k44*x4+k45*x18'))\n",
    "ssm.append(sp.sympify('+k3*x4*x2-k4*x5-k17*x5-k55*x10*x5+k56*x12+k57*x19'))\n",
    "ssm.append(sp.sympify('-k5*x6*x2+k6*x7-k46*x10*x6+k47*x13+k48*x24-k49*x6-k50*x6+k51*x20'))\n",
    "ssm.append(sp.sympify('+k5*x6*x2-k6*x7-k18*x7-k58*x10*x7+k59*x14+k60*x21'))\n",
    "ssm.append(sp.sympify('-k7*x8*x2+k8*x9+k34*x10*x1-k35*x8-k62*x8'))\n",
    "ssm.append(sp.sympify('+k7*x8*x2-k8*x9-k9*x9+k52*x10*x3-k53*x9'))\n",
    "ssm.append(sp.sympify('+k9*x9+k12*x12+k15*x14-k34*x10*x1+k35*x8-k40*x10*x4+k41*x11-k46*x10*x6+k47*x13-k52*x10*x3+k53*x9-k55*x10*x5+k56*x12-k58*x10*x7+k59*x14-k61*x10+k62*x8+k63*x11+k64*x13'))\n",
    "ssm.append(sp.sympify('-k10*x11*x2+k11*x12+k40*x10*x4-k41*x11-k63*x11'))\n",
    "ssm.append(sp.sympify('+k10*x11*x2-k11*x12-k12*x12+k55*x10*x5-k56*x12'))\n",
    "ssm.append(sp.sympify('-k13*x13*x2+k14*x14+k46*x10*x6-k47*x13-k64*x13'))\n",
    "ssm.append(sp.sympify('+k13*x13*x2-k14*x14-k15*x14+k58*x10*x7-k59*x14'))\n",
    "ssm.append(sp.sympify('+k19*x2-k20*x15-k21*x16*x15+k22*x17-k23*x18*x15+k24*x19-k25*x20*x15+k26*x21-k28*x15*x15+k28*x15*x15'))\n",
    "ssm.append(sp.sympify('-k21*x16*x15+k22*x17+k38*x1-k39*x16'))\n",
    "ssm.append(sp.sympify('+k21*x16*x15-k22*x17-k54*x17'))\n",
    "ssm.append(sp.sympify('-k23*x18*x15+k24*x19+k44*x4-k45*x18'))\n",
    "ssm.append(sp.sympify('+k23*x18*x15-k24*x19-k57*x19'))\n",
    "ssm.append(sp.sympify('-k25*x20*x15+k26*x21+k50*x6-k51*x20'))\n",
    "ssm.append(sp.sympify('+k25*x20*x15-k26*x21-k60*x21'))\n",
    "ssm.append(sp.sympify('+k27+k28*x15*x15-k29*x22-k36*x22+k36*x22'))\n",
    "ssm.append(sp.sympify('+k30-k31*x23-k42*x23+k42*x23'))\n",
    "ssm.append(sp.sympify('+k32-k33*x24-k48*x24+k48*x24'))\n"
   ]
  },
  {
   "cell_type": "code",
   "execution_count": 5,
   "metadata": {},
   "outputs": [],
   "source": [
    "x0 = [eval('5.97521108e-01'), eval('1.30181698e-04'), eval('9.67877617e-02'), eval('1.00437832e-03'),\n",
    " eval('7.87277938e-05'), eval('7.16607007e-04'), eval('5.61709540e-05'), 0,\n",
    " 0, 0, 0, 0,\n",
    " 0, 0, eval('7.65494124e-04'), eval('4.90100028e-02'),\n",
    " eval('2.16974463e-03'), eval('4.02420143e-05'), eval('6.95607467e-06'), eval('2.87119990e-05'),\n",
    " eval('4.96304204e-06'), eval('1.17054807e-01'), eval('2.72486833e-04'), eval('1.94414763e-04')]"
   ]
  },
  {
   "cell_type": "code",
   "execution_count": 6,
   "metadata": {},
   "outputs": [],
   "source": [
    "# here are the theta values\n",
    "ks = {}\n",
    "with open('reaction_coefficients.txt', 'r') as o: \n",
    "    for l in o:\n",
    "        k = l.split('=')[0]\n",
    "        ks[k] = float(eval(l.split('=')[1].replace('\\n', '').strip()))"
   ]
  },
  {
   "cell_type": "code",
   "execution_count": 7,
   "metadata": {},
   "outputs": [
    {
     "name": "stdout",
     "output_type": "stream",
     "text": [
      "[-0.09752110800000002, 0, 0, 0, 0, 0, 0, 0, 0, 0, 0, 0, 0, 0, 0, 0, 0, 0, 0, 0, 0, 0, 0, 0]\n",
      "0.5\n",
      "0.597521108\n"
     ]
    }
   ],
   "source": [
    "# get Sj. THIS IS JUST FOR INITIAL CONDITIONS\n",
    "def kdf(i, j):\n",
    "    if i != j:\n",
    "        return 0\n",
    "    return ks['k{}'.format(j+1)] - x0[i]\n",
    "\n",
    "def sj(j):\n",
    "    return [kdf(i, j) for i in range(len(x0))]\n",
    "\n",
    "print(sj(0))\n",
    "print(ks['k1'])\n",
    "print(x0[0])"
   ]
  },
  {
   "cell_type": "code",
   "execution_count": 8,
   "metadata": {},
   "outputs": [
    {
     "name": "stdout",
     "output_type": "stream",
     "text": [
      "[-x1*x2, -x1*x2, x1*x2, 0, 0, 0, 0, 0, 0, 0, 0, 0, 0, 0, 0, 0, 0, 0, 0, 0, 0, 0, 0, 0]\n"
     ]
    }
   ],
   "source": [
    "# get Fj (df/dthetaj)\n",
    "def fj(j):\n",
    "    return [sp.diff(ssm[i], 'k{}'.format(j+1)) for i in range(len(x0))]\n",
    "\n",
    "print(fj(0))\n",
    "## k1\n"
   ]
  },
  {
   "cell_type": "code",
   "execution_count": 9,
   "metadata": {},
   "outputs": [
    {
     "name": "stdout",
     "output_type": "stream",
     "text": [
      "[-k1*x2 - k34*x10 - k37 - k38, -k1*x1, k2, 0, 0, 0, 0, k35, 0, -k34*x1, 0, 0, 0, 0, 0, k39, 0, 0, 0, 0, 0, k36, 0, 0]\n",
      "[-k1*x2, -k1*x1 - k10*x11 - k13*x13 - k19 - k3*x4 - k5*x6 - k7*x8, k16 + k2, -k3*x2, k17 + k4, -k5*x2, k18 + k6, -k7*x2, k8 + k9, 0, -k10*x2, k11 + k12, -k13*x2, k14 + k15, k20, 0, 0, 0, 0, 0, 0, 0, 0, 0]\n",
      "[k1*x2, k1*x1, -k16 - k2 - k52*x10, 0, 0, 0, 0, 0, k53, -k52*x3, 0, 0, 0, 0, 0, 0, k54, 0, 0, 0, 0, 0, 0, 0]\n",
      "[0, -k3*x4, 0, -k3*x2 - k40*x10 - k43 - k44, k4, 0, 0, 0, 0, -k40*x4, k41, 0, 0, 0, 0, 0, 0, k45, 0, 0, 0, 0, k42, 0]\n",
      "[0, k3*x4, 0, k3*x2, -k17 - k4 - k55*x10, 0, 0, 0, 0, -k55*x5, 0, k56, 0, 0, 0, 0, 0, 0, k57, 0, 0, 0, 0, 0]\n",
      "[0, -k5*x6, 0, 0, 0, -k46*x10 - k49 - k5*x2 - k50, k6, 0, 0, -k46*x6, 0, 0, k47, 0, 0, 0, 0, 0, 0, k51, 0, 0, 0, k48]\n",
      "[0, k5*x6, 0, 0, 0, k5*x2, -k18 - k58*x10 - k6, 0, 0, -k58*x7, 0, 0, 0, k59, 0, 0, 0, 0, 0, 0, k60, 0, 0, 0]\n",
      "[k34*x10, -k7*x8, 0, 0, 0, 0, 0, -k35 - k62 - k7*x2, k8, k34*x1, 0, 0, 0, 0, 0, 0, 0, 0, 0, 0, 0, 0, 0, 0]\n",
      "[0, k7*x8, k52*x10, 0, 0, 0, 0, k7*x2, -k53 - k8 - k9, k52*x3, 0, 0, 0, 0, 0, 0, 0, 0, 0, 0, 0, 0, 0, 0]\n",
      "[-k34*x10, 0, -k52*x10, -k40*x10, -k55*x10, -k46*x10, -k58*x10, k35 + k62, k53 + k9, -k34*x1 - k40*x4 - k46*x6 - k52*x3 - k55*x5 - k58*x7 - k61, k41 + k63, k12 + k56, k47 + k64, k15 + k59, 0, 0, 0, 0, 0, 0, 0, 0, 0, 0]\n",
      "[0, -k10*x11, 0, k40*x10, 0, 0, 0, 0, 0, k40*x4, -k10*x2 - k41 - k63, k11, 0, 0, 0, 0, 0, 0, 0, 0, 0, 0, 0, 0]\n",
      "[0, k10*x11, 0, 0, k55*x10, 0, 0, 0, 0, k55*x5, k10*x2, -k11 - k12 - k56, 0, 0, 0, 0, 0, 0, 0, 0, 0, 0, 0, 0]\n",
      "[0, -k13*x13, 0, 0, 0, k46*x10, 0, 0, 0, k46*x6, 0, 0, -k13*x2 - k47 - k64, k14, 0, 0, 0, 0, 0, 0, 0, 0, 0, 0]\n",
      "[0, k13*x13, 0, 0, 0, 0, k58*x10, 0, 0, k58*x7, 0, 0, k13*x2, -k14 - k15 - k59, 0, 0, 0, 0, 0, 0, 0, 0, 0, 0]\n",
      "[0, k19, 0, 0, 0, 0, 0, 0, 0, 0, 0, 0, 0, 0, -k20 - k21*x16 - k23*x18 - k25*x20, -k21*x15, k22, -k23*x15, k24, -k25*x15, k26, 0, 0, 0]\n",
      "[k38, 0, 0, 0, 0, 0, 0, 0, 0, 0, 0, 0, 0, 0, -k21*x16, -k21*x15 - k39, k22, 0, 0, 0, 0, 0, 0, 0]\n",
      "[0, 0, 0, 0, 0, 0, 0, 0, 0, 0, 0, 0, 0, 0, k21*x16, k21*x15, -k22 - k54, 0, 0, 0, 0, 0, 0, 0]\n",
      "[0, 0, 0, k44, 0, 0, 0, 0, 0, 0, 0, 0, 0, 0, -k23*x18, 0, 0, -k23*x15 - k45, k24, 0, 0, 0, 0, 0]\n",
      "[0, 0, 0, 0, 0, 0, 0, 0, 0, 0, 0, 0, 0, 0, k23*x18, 0, 0, k23*x15, -k24 - k57, 0, 0, 0, 0, 0]\n",
      "[0, 0, 0, 0, 0, k50, 0, 0, 0, 0, 0, 0, 0, 0, -k25*x20, 0, 0, 0, 0, -k25*x15 - k51, k26, 0, 0, 0]\n",
      "[0, 0, 0, 0, 0, 0, 0, 0, 0, 0, 0, 0, 0, 0, k25*x20, 0, 0, 0, 0, k25*x15, -k26 - k60, 0, 0, 0]\n",
      "[0, 0, 0, 0, 0, 0, 0, 0, 0, 0, 0, 0, 0, 0, 2*k28*x15, 0, 0, 0, 0, 0, 0, -k29, 0, 0]\n",
      "[0, 0, 0, 0, 0, 0, 0, 0, 0, 0, 0, 0, 0, 0, 0, 0, 0, 0, 0, 0, 0, 0, -k31, 0]\n",
      "[0, 0, 0, 0, 0, 0, 0, 0, 0, 0, 0, 0, 0, 0, 0, 0, 0, 0, 0, 0, 0, 0, 0, -k33]\n"
     ]
    }
   ],
   "source": [
    "# find J\n",
    "def makeJ():\n",
    "    J = []\n",
    "    # df1 is top row where as dx1 is the first column\n",
    "    # is dfn/dfn\n",
    "    for i in range(len(ssm)):\n",
    "        row = []\n",
    "        tod = ssm[i]\n",
    "        for n in range(len(ssm)):\n",
    "            respectto = 'x{}'.format(n+1)\n",
    "            row.append(sp.diff(tod, respectto))\n",
    "        J.append(row)\n",
    "    return J\n",
    "J = makeJ()\n",
    "for row in J:\n",
    "    print(row)"
   ]
  },
  {
   "cell_type": "code",
   "execution_count": 10,
   "metadata": {},
   "outputs": [],
   "source": [
    "import numpy as np\n",
    "J = makeJ()\n",
    "def ddtdxdthetaj(j, p):\n",
    "    return np.add(np.dot(np.asarray(J), p), np.asarray(fj(j)))\n"
   ]
  },
  {
   "cell_type": "markdown",
   "metadata": {},
   "source": [
    "### cool\n",
    "Ok so at this point we have dx dthetea for all x and all theta. Now we need to solve this big ol system of equations for t"
   ]
  },
  {
   "cell_type": "code",
   "execution_count": 14,
   "metadata": {},
   "outputs": [
    {
     "name": "stdout",
     "output_type": "stream",
     "text": [
      "-k1*p2*x1 + k2*p3 - k34*p10*x1 + k35*p8 + k36*p22 + k39*p16 + p1*(-k1*x2 - k34*x10 - k37 - k38) - x1*x2\n",
      "-k1*p1*x2 - k10*p11*x2 - k13*p13*x2 + k20*p15 - k3*p4*x2 - k5*p6*x2 - k7*p8*x2 + p12*(k11 + k12) + p14*(k14 + k15) + p2*(-k1*x1 - k10*x11 - k13*x13 - k19 - k3*x4 - k5*x6 - k7*x8) + p3*(k16 + k2) + p5*(k17 + k4) + p7*(k18 + k6) + p9*(k8 + k9) - x1*x2\n",
      "k1*p1*x2 + k1*p2*x1 - k52*p10*x3 + k53*p9 + k54*p17 + p3*(-k16 - k2 - k52*x10) + x1*x2\n",
      "-k3*p2*x4 + k4*p5 - k40*p10*x4 + k41*p11 + k42*p23 + k45*p18 + p4*(-k3*x2 - k40*x10 - k43 - k44)\n",
      "k3*p2*x4 + k3*p4*x2 - k55*p10*x5 + k56*p12 + k57*p19 + p5*(-k17 - k4 - k55*x10)\n",
      "-k46*p10*x6 + k47*p13 + k48*p24 - k5*p2*x6 + k51*p20 + k6*p7 + p6*(-k46*x10 - k49 - k5*x2 - k50)\n",
      "k5*p2*x6 + k5*p6*x2 - k58*p10*x7 + k59*p14 + k60*p21 + p7*(-k18 - k58*x10 - k6)\n",
      "k34*p1*x10 + k34*p10*x1 - k7*p2*x8 + k8*p9 + p8*(-k35 - k62 - k7*x2)\n",
      "k52*p10*x3 + k52*p3*x10 + k7*p2*x8 + k7*p8*x2 + p9*(-k53 - k8 - k9)\n",
      "-k34*p1*x10 - k40*p4*x10 - k46*p6*x10 - k52*p3*x10 - k55*p5*x10 - k58*p7*x10 + p10*(-k34*x1 - k40*x4 - k46*x6 - k52*x3 - k55*x5 - k58*x7 - k61) + p11*(k41 + k63) + p12*(k12 + k56) + p13*(k47 + k64) + p14*(k15 + k59) + p8*(k35 + k62) + p9*(k53 + k9)\n",
      "-k10*p2*x11 + k11*p12 + k40*p10*x4 + k40*p4*x10 + p11*(-k10*x2 - k41 - k63)\n",
      "k10*p11*x2 + k10*p2*x11 + k55*p10*x5 + k55*p5*x10 + p12*(-k11 - k12 - k56)\n",
      "-k13*p2*x13 + k14*p14 + k46*p10*x6 + k46*p6*x10 + p13*(-k13*x2 - k47 - k64)\n",
      "k13*p13*x2 + k13*p2*x13 + k58*p10*x7 + k58*p7*x10 + p14*(-k14 - k15 - k59)\n",
      "k19*p2 - k21*p16*x15 + k22*p17 - k23*p18*x15 + k24*p19 - k25*p20*x15 + k26*p21 + p15*(-k20 - k21*x16 - k23*x18 - k25*x20)\n",
      "-k21*p15*x16 + k22*p17 + k38*p1 + p16*(-k21*x15 - k39)\n",
      "k21*p15*x16 + k21*p16*x15 + p17*(-k22 - k54)\n",
      "-k23*p15*x18 + k24*p19 + k44*p4 + p18*(-k23*x15 - k45)\n",
      "k23*p15*x18 + k23*p18*x15 + p19*(-k24 - k57)\n",
      "-k25*p15*x20 + k26*p21 + k50*p6 + p20*(-k25*x15 - k51)\n",
      "k25*p15*x20 + k25*p20*x15 + p21*(-k26 - k60)\n",
      "2*k28*p15*x15 - k29*p22\n",
      "-k31*p23\n",
      "-k33*p24\n"
     ]
    },
    {
     "ename": "NameError",
     "evalue": "name 'x' is not defined",
     "output_type": "error",
     "traceback": [
      "\u001b[0;31m---------------------------------------------------------------------------\u001b[0m",
      "\u001b[0;31mNameError\u001b[0m                                 Traceback (most recent call last)",
      "\u001b[0;32m<ipython-input-14-536c1beb2eae>\u001b[0m in \u001b[0;36m<module>\u001b[0;34m\u001b[0m\n\u001b[1;32m     21\u001b[0m \u001b[0;31m# p refers to the dx/dtheta term\u001b[0m\u001b[0;34m\u001b[0m\u001b[0;34m\u001b[0m\u001b[0;34m\u001b[0m\u001b[0m\n\u001b[1;32m     22\u001b[0m \u001b[0mx0\u001b[0m \u001b[0;34m=\u001b[0m \u001b[0msj\u001b[0m\u001b[0;34m(\u001b[0m\u001b[0;36m0\u001b[0m\u001b[0;34m)\u001b[0m\u001b[0;34m\u001b[0m\u001b[0;34m\u001b[0m\u001b[0m\n\u001b[0;32m---> 23\u001b[0;31m \u001b[0msolveddxdtheta\u001b[0m \u001b[0;34m=\u001b[0m \u001b[0modeint\u001b[0m\u001b[0;34m(\u001b[0m\u001b[0mintegratethis\u001b[0m\u001b[0;34m,\u001b[0m \u001b[0mx0\u001b[0m\u001b[0;34m,\u001b[0m \u001b[0mt\u001b[0m\u001b[0;34m,\u001b[0m \u001b[0margs\u001b[0m\u001b[0;34m=\u001b[0m\u001b[0;34m(\u001b[0m\u001b[0msoe\u001b[0m\u001b[0;34m,\u001b[0m\u001b[0;34m)\u001b[0m\u001b[0;34m)\u001b[0m\u001b[0;34m\u001b[0m\u001b[0;34m\u001b[0m\u001b[0m\n\u001b[0m",
      "\u001b[0;32m/Library/Frameworks/Python.framework/Versions/3.7/lib/python3.7/site-packages/scipy/integrate/odepack.py\u001b[0m in \u001b[0;36modeint\u001b[0;34m(func, y0, t, args, Dfun, col_deriv, full_output, ml, mu, rtol, atol, tcrit, h0, hmax, hmin, ixpr, mxstep, mxhnil, mxordn, mxords, printmessg, tfirst)\u001b[0m\n\u001b[1;32m    242\u001b[0m                              \u001b[0mfull_output\u001b[0m\u001b[0;34m,\u001b[0m \u001b[0mrtol\u001b[0m\u001b[0;34m,\u001b[0m \u001b[0matol\u001b[0m\u001b[0;34m,\u001b[0m \u001b[0mtcrit\u001b[0m\u001b[0;34m,\u001b[0m \u001b[0mh0\u001b[0m\u001b[0;34m,\u001b[0m \u001b[0mhmax\u001b[0m\u001b[0;34m,\u001b[0m \u001b[0mhmin\u001b[0m\u001b[0;34m,\u001b[0m\u001b[0;34m\u001b[0m\u001b[0;34m\u001b[0m\u001b[0m\n\u001b[1;32m    243\u001b[0m                              \u001b[0mixpr\u001b[0m\u001b[0;34m,\u001b[0m \u001b[0mmxstep\u001b[0m\u001b[0;34m,\u001b[0m \u001b[0mmxhnil\u001b[0m\u001b[0;34m,\u001b[0m \u001b[0mmxordn\u001b[0m\u001b[0;34m,\u001b[0m \u001b[0mmxords\u001b[0m\u001b[0;34m,\u001b[0m\u001b[0;34m\u001b[0m\u001b[0;34m\u001b[0m\u001b[0m\n\u001b[0;32m--> 244\u001b[0;31m                              int(bool(tfirst)))\n\u001b[0m\u001b[1;32m    245\u001b[0m     \u001b[0;32mif\u001b[0m \u001b[0moutput\u001b[0m\u001b[0;34m[\u001b[0m\u001b[0;34m-\u001b[0m\u001b[0;36m1\u001b[0m\u001b[0;34m]\u001b[0m \u001b[0;34m<\u001b[0m \u001b[0;36m0\u001b[0m\u001b[0;34m:\u001b[0m\u001b[0;34m\u001b[0m\u001b[0;34m\u001b[0m\u001b[0m\n\u001b[1;32m    246\u001b[0m         \u001b[0mwarning_msg\u001b[0m \u001b[0;34m=\u001b[0m \u001b[0m_msgs\u001b[0m\u001b[0;34m[\u001b[0m\u001b[0moutput\u001b[0m\u001b[0;34m[\u001b[0m\u001b[0;34m-\u001b[0m\u001b[0;36m1\u001b[0m\u001b[0;34m]\u001b[0m\u001b[0;34m]\u001b[0m \u001b[0;34m+\u001b[0m \u001b[0;34m\" Run with full_output = 1 to get quantitative information.\"\u001b[0m\u001b[0;34m\u001b[0m\u001b[0;34m\u001b[0m\u001b[0m\n",
      "\u001b[0;32m<ipython-input-14-536c1beb2eae>\u001b[0m in \u001b[0;36mintegratethis\u001b[0;34m(p, t, soe)\u001b[0m\n\u001b[1;32m      5\u001b[0m     \u001b[0mtosub\u001b[0m \u001b[0;34m=\u001b[0m \u001b[0;34m{\u001b[0m\u001b[0;34m}\u001b[0m\u001b[0;34m\u001b[0m\u001b[0;34m\u001b[0m\u001b[0m\n\u001b[1;32m      6\u001b[0m     \u001b[0mtosolve\u001b[0m \u001b[0;34m=\u001b[0m \u001b[0mcopy\u001b[0m\u001b[0;34m.\u001b[0m\u001b[0mdeepcopy\u001b[0m\u001b[0;34m(\u001b[0m\u001b[0msoe\u001b[0m\u001b[0;34m)\u001b[0m\u001b[0;34m\u001b[0m\u001b[0;34m\u001b[0m\u001b[0m\n\u001b[0;32m----> 7\u001b[0;31m     \u001b[0;32mfor\u001b[0m \u001b[0mi\u001b[0m \u001b[0;32min\u001b[0m \u001b[0mrange\u001b[0m\u001b[0;34m(\u001b[0m\u001b[0mlen\u001b[0m\u001b[0;34m(\u001b[0m\u001b[0mx\u001b[0m\u001b[0;34m)\u001b[0m\u001b[0;34m)\u001b[0m\u001b[0;34m:\u001b[0m\u001b[0;34m\u001b[0m\u001b[0;34m\u001b[0m\u001b[0m\n\u001b[0m\u001b[1;32m      8\u001b[0m         \u001b[0mtosub\u001b[0m\u001b[0;34m[\u001b[0m\u001b[0;34m'x{}'\u001b[0m\u001b[0;34m.\u001b[0m\u001b[0mformat\u001b[0m\u001b[0;34m(\u001b[0m\u001b[0mi\u001b[0m \u001b[0;34m+\u001b[0m \u001b[0;36m1\u001b[0m\u001b[0;34m)\u001b[0m\u001b[0;34m]\u001b[0m \u001b[0;34m=\u001b[0m \u001b[0mx\u001b[0m\u001b[0;34m[\u001b[0m\u001b[0mi\u001b[0m\u001b[0;34m]\u001b[0m\u001b[0;34m\u001b[0m\u001b[0;34m\u001b[0m\u001b[0m\n\u001b[1;32m      9\u001b[0m     \u001b[0;32mfor\u001b[0m \u001b[0mk\u001b[0m \u001b[0;32min\u001b[0m \u001b[0mks\u001b[0m\u001b[0;34m:\u001b[0m\u001b[0;34m\u001b[0m\u001b[0;34m\u001b[0m\u001b[0m\n",
      "\u001b[0;31mNameError\u001b[0m: name 'x' is not defined"
     ]
    }
   ],
   "source": [
    "import copy\n",
    "from scipy.integrate import odeint, solve_ivp\n",
    "\n",
    "def integratethis(p, t, soe):\n",
    "    tosub = {}\n",
    "    tosolve = copy.deepcopy(soe)\n",
    "    for i in range(len(x)):\n",
    "        tosub['x{}'.format(i + 1)] = x[i]\n",
    "    for k in ks:\n",
    "        tosub[k] = ks[k]\n",
    "    for j in range(len(tosolve)):\n",
    "        tosolve[j] = float(tosolve[j].evalf(subs=tosub))\n",
    "\n",
    "    return list(tosolve)\n",
    "\n",
    "N = 400\n",
    "t = t = np.linspace(0, 400, 400)\n",
    "soe = ddtdxdthetaj(0, [sp.sympify('p{}'.format(i + 1)) for i in range(len(x0))])\n",
    "for row in soe:\n",
    "    print(row)\n",
    "# p refers to the dx/dtheta term\n",
    "x0 = sj(0)\n",
    "solveddxdtheta = odeint(integratethis, x0, t, args=(soe,))"
   ]
  },
  {
   "cell_type": "code",
   "execution_count": 60,
   "metadata": {},
   "outputs": [
    {
     "name": "stdout",
     "output_type": "stream",
     "text": [
      "24\n"
     ]
    }
   ],
   "source": [
    "print(len(solveddxdtheta[0]))"
   ]
  },
  {
   "cell_type": "code",
   "execution_count": null,
   "metadata": {},
   "outputs": [],
   "source": []
  }
 ],
 "metadata": {
  "kernelspec": {
   "display_name": "Python 3",
   "language": "python",
   "name": "python3"
  },
  "language_info": {
   "codemirror_mode": {
    "name": "ipython",
    "version": 3
   },
   "file_extension": ".py",
   "mimetype": "text/x-python",
   "name": "python",
   "nbconvert_exporter": "python",
   "pygments_lexer": "ipython3",
   "version": "3.7.4"
  }
 },
 "nbformat": 4,
 "nbformat_minor": 4
}
